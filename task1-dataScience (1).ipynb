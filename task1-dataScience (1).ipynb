{
 "cells": [
  {
   "cell_type": "code",
   "execution_count": 113,
   "id": "2a63da3f-eb3c-4df7-91b3-100717ca0890",
   "metadata": {},
   "outputs": [],
   "source": [
    "import pandas as pd # Data manipulation and analysis library work with structure data'Excel' \n",
    "import numpy as np# numeric library \n",
    "from sklearn.impute import SimpleImputer# work with ML that handling missing data by replacing \n",
    "import seaborn as sns # anthor library for virtualization that use with matplot to make a beuty\n",
    "import matplotlib.pyplot as plt# virtualization library \n",
    "import warnings\n",
    "warnings.filterwarnings(\"ignore\", category=FutureWarning, module=\"seaborn\") # to remove any warning"
   ]
  },
  {
   "cell_type": "code",
   "execution_count": 114,
   "id": "987211af-359e-493a-a4d7-98864ed15867",
   "metadata": {},
   "outputs": [
    {
     "data": {
      "text/html": [
       "<div>\n",
       "<style scoped>\n",
       "    .dataframe tbody tr th:only-of-type {\n",
       "        vertical-align: middle;\n",
       "    }\n",
       "\n",
       "    .dataframe tbody tr th {\n",
       "        vertical-align: top;\n",
       "    }\n",
       "\n",
       "    .dataframe thead th {\n",
       "        text-align: right;\n",
       "    }\n",
       "</style>\n",
       "<table border=\"1\" class=\"dataframe\">\n",
       "  <thead>\n",
       "    <tr style=\"text-align: right;\">\n",
       "      <th></th>\n",
       "      <th>ID</th>\n",
       "      <th>Marital Status</th>\n",
       "      <th>Gender</th>\n",
       "      <th>Income</th>\n",
       "      <th>Children</th>\n",
       "      <th>Education</th>\n",
       "      <th>Occupation</th>\n",
       "      <th>Home Owner</th>\n",
       "      <th>Cars</th>\n",
       "      <th>Commute Distance</th>\n",
       "      <th>Region</th>\n",
       "      <th>Age</th>\n",
       "      <th>Purchased Bike</th>\n",
       "    </tr>\n",
       "  </thead>\n",
       "  <tbody>\n",
       "    <tr>\n",
       "      <th>0</th>\n",
       "      <td>12496</td>\n",
       "      <td>M</td>\n",
       "      <td>F</td>\n",
       "      <td>$40,000.00</td>\n",
       "      <td>1</td>\n",
       "      <td>Bachelors</td>\n",
       "      <td>Skilled Manual</td>\n",
       "      <td>Yes</td>\n",
       "      <td>0</td>\n",
       "      <td>0-1 Miles</td>\n",
       "      <td>Europe</td>\n",
       "      <td>42</td>\n",
       "      <td>N</td>\n",
       "    </tr>\n",
       "    <tr>\n",
       "      <th>1</th>\n",
       "      <td>24107</td>\n",
       "      <td>M</td>\n",
       "      <td>M</td>\n",
       "      <td>30000</td>\n",
       "      <td>3</td>\n",
       "      <td>Partial College</td>\n",
       "      <td>Clerical</td>\n",
       "      <td>Yes</td>\n",
       "      <td>1</td>\n",
       "      <td>0-1 Miles</td>\n",
       "      <td>Europe</td>\n",
       "      <td>43</td>\n",
       "      <td>No</td>\n",
       "    </tr>\n",
       "    <tr>\n",
       "      <th>2</th>\n",
       "      <td>14177</td>\n",
       "      <td>married</td>\n",
       "      <td>Male</td>\n",
       "      <td>80000</td>\n",
       "      <td>5</td>\n",
       "      <td>Partial College</td>\n",
       "      <td>Professional</td>\n",
       "      <td>No</td>\n",
       "      <td>2</td>\n",
       "      <td>2-5 Miles</td>\n",
       "      <td>Europe</td>\n",
       "      <td>60</td>\n",
       "      <td>No</td>\n",
       "    </tr>\n",
       "    <tr>\n",
       "      <th>3</th>\n",
       "      <td>24381</td>\n",
       "      <td>S</td>\n",
       "      <td>Male</td>\n",
       "      <td>70000</td>\n",
       "      <td>0</td>\n",
       "      <td>Bachelors</td>\n",
       "      <td>Professional</td>\n",
       "      <td>Yes</td>\n",
       "      <td>1</td>\n",
       "      <td>5-10 Miles</td>\n",
       "      <td>Pacific</td>\n",
       "      <td>41</td>\n",
       "      <td>Y</td>\n",
       "    </tr>\n",
       "    <tr>\n",
       "      <th>4</th>\n",
       "      <td>25597</td>\n",
       "      <td>S</td>\n",
       "      <td>M</td>\n",
       "      <td>30000</td>\n",
       "      <td>0</td>\n",
       "      <td>Bachelors</td>\n",
       "      <td>Clerical</td>\n",
       "      <td>No</td>\n",
       "      <td>0</td>\n",
       "      <td>0-1 Miles</td>\n",
       "      <td>Europe</td>\n",
       "      <td>36</td>\n",
       "      <td>Yes</td>\n",
       "    </tr>\n",
       "    <tr>\n",
       "      <th>...</th>\n",
       "      <td>...</td>\n",
       "      <td>...</td>\n",
       "      <td>...</td>\n",
       "      <td>...</td>\n",
       "      <td>...</td>\n",
       "      <td>...</td>\n",
       "      <td>...</td>\n",
       "      <td>...</td>\n",
       "      <td>...</td>\n",
       "      <td>...</td>\n",
       "      <td>...</td>\n",
       "      <td>...</td>\n",
       "      <td>...</td>\n",
       "    </tr>\n",
       "    <tr>\n",
       "      <th>1021</th>\n",
       "      <td>16466</td>\n",
       "      <td>S</td>\n",
       "      <td>F</td>\n",
       "      <td>20000</td>\n",
       "      <td>0</td>\n",
       "      <td>Partial High School</td>\n",
       "      <td>Manual</td>\n",
       "      <td>No</td>\n",
       "      <td>2</td>\n",
       "      <td>0-1 Miles</td>\n",
       "      <td>Europe</td>\n",
       "      <td>32</td>\n",
       "      <td>Yes</td>\n",
       "    </tr>\n",
       "    <tr>\n",
       "      <th>1022</th>\n",
       "      <td>19273</td>\n",
       "      <td>M</td>\n",
       "      <td>F</td>\n",
       "      <td>20000</td>\n",
       "      <td>2</td>\n",
       "      <td>Partial College</td>\n",
       "      <td>Manual</td>\n",
       "      <td>Yes</td>\n",
       "      <td>0</td>\n",
       "      <td>0-1 Miles</td>\n",
       "      <td>Europe</td>\n",
       "      <td>63</td>\n",
       "      <td>No</td>\n",
       "    </tr>\n",
       "    <tr>\n",
       "      <th>1023</th>\n",
       "      <td>22400</td>\n",
       "      <td>M</td>\n",
       "      <td>M</td>\n",
       "      <td>$10,000.00</td>\n",
       "      <td>0</td>\n",
       "      <td>Partial College</td>\n",
       "      <td>Manual</td>\n",
       "      <td>No</td>\n",
       "      <td>1</td>\n",
       "      <td>0-1 Miles</td>\n",
       "      <td>Pacific</td>\n",
       "      <td>26</td>\n",
       "      <td>Y</td>\n",
       "    </tr>\n",
       "    <tr>\n",
       "      <th>1024</th>\n",
       "      <td>20942</td>\n",
       "      <td>S</td>\n",
       "      <td>F</td>\n",
       "      <td>$20,000.00</td>\n",
       "      <td>0</td>\n",
       "      <td>High School</td>\n",
       "      <td>Manual</td>\n",
       "      <td>No</td>\n",
       "      <td>1</td>\n",
       "      <td>5-10 Miles</td>\n",
       "      <td>Europe</td>\n",
       "      <td>31</td>\n",
       "      <td>N</td>\n",
       "    </tr>\n",
       "    <tr>\n",
       "      <th>1025</th>\n",
       "      <td>18484</td>\n",
       "      <td>Single</td>\n",
       "      <td>male</td>\n",
       "      <td>$80,000.00</td>\n",
       "      <td>2</td>\n",
       "      <td>High School</td>\n",
       "      <td>Skilled Manual</td>\n",
       "      <td>No</td>\n",
       "      <td>2</td>\n",
       "      <td>1-2 Miles</td>\n",
       "      <td>Pacific</td>\n",
       "      <td>50</td>\n",
       "      <td>Yes</td>\n",
       "    </tr>\n",
       "  </tbody>\n",
       "</table>\n",
       "<p>1026 rows × 13 columns</p>\n",
       "</div>"
      ],
      "text/plain": [
       "         ID Marital Status Gender       Income Children            Education  \\\n",
       "0     12496              M      F  $40,000.00         1            Bachelors   \n",
       "1     24107              M      M        30000        3      Partial College   \n",
       "2     14177        married   Male        80000        5      Partial College   \n",
       "3     24381              S   Male        70000        0            Bachelors   \n",
       "4     25597              S      M        30000        0            Bachelors   \n",
       "...     ...            ...    ...          ...      ...                  ...   \n",
       "1021  16466              S      F        20000        0  Partial High School   \n",
       "1022  19273              M      F        20000        2      Partial College   \n",
       "1023  22400              M      M  $10,000.00         0      Partial College   \n",
       "1024  20942              S      F  $20,000.00         0          High School   \n",
       "1025  18484         Single   male  $80,000.00         2          High School   \n",
       "\n",
       "          Occupation Home Owner  Cars Commute Distance   Region  Age  \\\n",
       "0     Skilled Manual        Yes     0        0-1 Miles   Europe   42   \n",
       "1           Clerical        Yes     1        0-1 Miles   Europe   43   \n",
       "2       Professional         No     2        2-5 Miles   Europe   60   \n",
       "3       Professional        Yes     1       5-10 Miles  Pacific   41   \n",
       "4           Clerical         No     0        0-1 Miles   Europe   36   \n",
       "...              ...        ...   ...              ...      ...  ...   \n",
       "1021          Manual         No     2        0-1 Miles   Europe   32   \n",
       "1022          Manual        Yes     0        0-1 Miles   Europe   63   \n",
       "1023          Manual         No     1        0-1 Miles  Pacific   26   \n",
       "1024          Manual         No     1       5-10 Miles   Europe   31   \n",
       "1025  Skilled Manual         No     2        1-2 Miles  Pacific   50   \n",
       "\n",
       "     Purchased Bike  \n",
       "0                 N  \n",
       "1                No  \n",
       "2                No  \n",
       "3                 Y  \n",
       "4               Yes  \n",
       "...             ...  \n",
       "1021            Yes  \n",
       "1022             No  \n",
       "1023              Y  \n",
       "1024              N  \n",
       "1025            Yes  \n",
       "\n",
       "[1026 rows x 13 columns]"
      ]
     },
     "execution_count": 114,
     "metadata": {},
     "output_type": "execute_result"
    }
   ],
   "source": [
    "df = pd.read_csv(r\"C:\\Users\\Alshuruq Company\\Desktop\\DataSciene\\Data_before.csv\")\n",
    "\n",
    "\n",
    "df"
   ]
  },
  {
   "cell_type": "code",
   "execution_count": 115,
   "id": "414b6746-fecc-44f3-8f79-3505ec2e29a7",
   "metadata": {},
   "outputs": [
    {
     "name": "stdout",
     "output_type": "stream",
     "text": [
      "<class 'pandas.core.frame.DataFrame'>\n",
      "RangeIndex: 1026 entries, 0 to 1025\n",
      "Data columns (total 13 columns):\n",
      " #   Column            Non-Null Count  Dtype \n",
      "---  ------            --------------  ----- \n",
      " 0   ID                1026 non-null   int64 \n",
      " 1   Marital Status    1026 non-null   object\n",
      " 2   Gender            1026 non-null   object\n",
      " 3   Income            1026 non-null   object\n",
      " 4   Children          1026 non-null   object\n",
      " 5   Education         1017 non-null   object\n",
      " 6   Occupation        1024 non-null   object\n",
      " 7   Home Owner        1026 non-null   object\n",
      " 8   Cars              1026 non-null   int64 \n",
      " 9   Commute Distance  1026 non-null   object\n",
      " 10  Region            1024 non-null   object\n",
      " 11  Age               1026 non-null   int64 \n",
      " 12  Purchased Bike    1026 non-null   object\n",
      "dtypes: int64(3), object(10)\n",
      "memory usage: 104.3+ KB\n"
     ]
    }
   ],
   "source": [
    "df.info()"
   ]
  },
  {
   "cell_type": "code",
   "execution_count": 116,
   "id": "01eb5914-acfa-443f-8ca4-aa1cad416cff",
   "metadata": {},
   "outputs": [
    {
     "data": {
      "text/html": [
       "<div>\n",
       "<style scoped>\n",
       "    .dataframe tbody tr th:only-of-type {\n",
       "        vertical-align: middle;\n",
       "    }\n",
       "\n",
       "    .dataframe tbody tr th {\n",
       "        vertical-align: top;\n",
       "    }\n",
       "\n",
       "    .dataframe thead th {\n",
       "        text-align: right;\n",
       "    }\n",
       "</style>\n",
       "<table border=\"1\" class=\"dataframe\">\n",
       "  <thead>\n",
       "    <tr style=\"text-align: right;\">\n",
       "      <th></th>\n",
       "      <th>ID</th>\n",
       "      <th>Marital Status</th>\n",
       "      <th>Gender</th>\n",
       "      <th>Income</th>\n",
       "      <th>Children</th>\n",
       "      <th>Education</th>\n",
       "      <th>Occupation</th>\n",
       "      <th>Home Owner</th>\n",
       "      <th>Cars</th>\n",
       "      <th>Commute Distance</th>\n",
       "      <th>Region</th>\n",
       "      <th>Age</th>\n",
       "      <th>Purchased Bike</th>\n",
       "    </tr>\n",
       "  </thead>\n",
       "  <tbody>\n",
       "    <tr>\n",
       "      <th>1000</th>\n",
       "      <td>13507</td>\n",
       "      <td>M</td>\n",
       "      <td>F</td>\n",
       "      <td>10000</td>\n",
       "      <td>2</td>\n",
       "      <td>Partial College</td>\n",
       "      <td>Manual</td>\n",
       "      <td>Yes</td>\n",
       "      <td>0</td>\n",
       "      <td>1-2 Miles</td>\n",
       "      <td>Europe</td>\n",
       "      <td>50</td>\n",
       "      <td>No</td>\n",
       "    </tr>\n",
       "    <tr>\n",
       "      <th>1001</th>\n",
       "      <td>19280</td>\n",
       "      <td>M</td>\n",
       "      <td>M</td>\n",
       "      <td>120000</td>\n",
       "      <td>2</td>\n",
       "      <td>Partial College</td>\n",
       "      <td>Manual</td>\n",
       "      <td>Yes</td>\n",
       "      <td>1</td>\n",
       "      <td>0-1 Miles</td>\n",
       "      <td>Europe</td>\n",
       "      <td>40</td>\n",
       "      <td>Yes</td>\n",
       "    </tr>\n",
       "    <tr>\n",
       "      <th>1004</th>\n",
       "      <td>11434</td>\n",
       "      <td>M</td>\n",
       "      <td>M</td>\n",
       "      <td>170000</td>\n",
       "      <td>5</td>\n",
       "      <td>Partial College</td>\n",
       "      <td>Professional</td>\n",
       "      <td>Yes</td>\n",
       "      <td>0</td>\n",
       "      <td>0-1 Miles</td>\n",
       "      <td>Europe</td>\n",
       "      <td>55</td>\n",
       "      <td>No</td>\n",
       "    </tr>\n",
       "    <tr>\n",
       "      <th>1012</th>\n",
       "      <td>25598</td>\n",
       "      <td>M</td>\n",
       "      <td>F</td>\n",
       "      <td>40000</td>\n",
       "      <td>0</td>\n",
       "      <td>Graduate Degree</td>\n",
       "      <td>Clerical</td>\n",
       "      <td>Yes</td>\n",
       "      <td>0</td>\n",
       "      <td>0-1 Miles</td>\n",
       "      <td>Europe</td>\n",
       "      <td>36</td>\n",
       "      <td>Yes</td>\n",
       "    </tr>\n",
       "    <tr>\n",
       "      <th>1014</th>\n",
       "      <td>19193</td>\n",
       "      <td>S</td>\n",
       "      <td>M</td>\n",
       "      <td>40000</td>\n",
       "      <td>2</td>\n",
       "      <td>Partial College</td>\n",
       "      <td>Clerical</td>\n",
       "      <td>Yes</td>\n",
       "      <td>0</td>\n",
       "      <td>1-2 Miles</td>\n",
       "      <td>Europe</td>\n",
       "      <td>35</td>\n",
       "      <td>Yes</td>\n",
       "    </tr>\n",
       "    <tr>\n",
       "      <th>1015</th>\n",
       "      <td>26412</td>\n",
       "      <td>M</td>\n",
       "      <td>F</td>\n",
       "      <td>80000</td>\n",
       "      <td>5</td>\n",
       "      <td>High School</td>\n",
       "      <td>Management</td>\n",
       "      <td>No</td>\n",
       "      <td>3</td>\n",
       "      <td>5-10 Miles</td>\n",
       "      <td>Europe</td>\n",
       "      <td>56</td>\n",
       "      <td>No</td>\n",
       "    </tr>\n",
       "    <tr>\n",
       "      <th>1016</th>\n",
       "      <td>27184</td>\n",
       "      <td>S</td>\n",
       "      <td>M</td>\n",
       "      <td>40000</td>\n",
       "      <td>2</td>\n",
       "      <td>Partial College</td>\n",
       "      <td>Clerical</td>\n",
       "      <td>No</td>\n",
       "      <td>1</td>\n",
       "      <td>0-1 Miles</td>\n",
       "      <td>Europe</td>\n",
       "      <td>34</td>\n",
       "      <td>No</td>\n",
       "    </tr>\n",
       "    <tr>\n",
       "      <th>1017</th>\n",
       "      <td>12590</td>\n",
       "      <td>S</td>\n",
       "      <td>M</td>\n",
       "      <td>30000</td>\n",
       "      <td>1</td>\n",
       "      <td>Bachelors</td>\n",
       "      <td>Clerical</td>\n",
       "      <td>Yes</td>\n",
       "      <td>0</td>\n",
       "      <td>0-1 Miles</td>\n",
       "      <td>Europe</td>\n",
       "      <td>63</td>\n",
       "      <td>No</td>\n",
       "    </tr>\n",
       "    <tr>\n",
       "      <th>1018</th>\n",
       "      <td>17841</td>\n",
       "      <td>S</td>\n",
       "      <td>M</td>\n",
       "      <td>30000</td>\n",
       "      <td>0</td>\n",
       "      <td>Partial College</td>\n",
       "      <td>Clerical</td>\n",
       "      <td>No</td>\n",
       "      <td>1</td>\n",
       "      <td>0-1 Miles</td>\n",
       "      <td>Europe</td>\n",
       "      <td>29</td>\n",
       "      <td>Yes</td>\n",
       "    </tr>\n",
       "    <tr>\n",
       "      <th>1020</th>\n",
       "      <td>18299</td>\n",
       "      <td>M</td>\n",
       "      <td>M</td>\n",
       "      <td>70000</td>\n",
       "      <td>5</td>\n",
       "      <td>Partial College</td>\n",
       "      <td>Skilled Manual</td>\n",
       "      <td>Yes</td>\n",
       "      <td>2</td>\n",
       "      <td>5-10 Miles</td>\n",
       "      <td>Pacific</td>\n",
       "      <td>44</td>\n",
       "      <td>No</td>\n",
       "    </tr>\n",
       "    <tr>\n",
       "      <th>1021</th>\n",
       "      <td>16466</td>\n",
       "      <td>S</td>\n",
       "      <td>F</td>\n",
       "      <td>20000</td>\n",
       "      <td>0</td>\n",
       "      <td>Partial High School</td>\n",
       "      <td>Manual</td>\n",
       "      <td>No</td>\n",
       "      <td>2</td>\n",
       "      <td>0-1 Miles</td>\n",
       "      <td>Europe</td>\n",
       "      <td>32</td>\n",
       "      <td>Yes</td>\n",
       "    </tr>\n",
       "  </tbody>\n",
       "</table>\n",
       "</div>"
      ],
      "text/plain": [
       "         ID Marital Status Gender  Income Children            Education  \\\n",
       "1000  13507              M      F   10000        2      Partial College   \n",
       "1001  19280              M      M  120000        2      Partial College   \n",
       "1004  11434              M      M  170000        5      Partial College   \n",
       "1012  25598              M      F   40000        0      Graduate Degree   \n",
       "1014  19193              S      M   40000        2      Partial College   \n",
       "1015  26412              M      F   80000        5          High School   \n",
       "1016  27184              S      M   40000        2      Partial College   \n",
       "1017  12590              S      M   30000        1            Bachelors   \n",
       "1018  17841              S      M   30000        0      Partial College   \n",
       "1020  18299              M      M   70000        5      Partial College   \n",
       "1021  16466              S      F   20000        0  Partial High School   \n",
       "\n",
       "          Occupation Home Owner  Cars Commute Distance   Region  Age  \\\n",
       "1000          Manual        Yes     0        1-2 Miles   Europe   50   \n",
       "1001          Manual        Yes     1        0-1 Miles   Europe   40   \n",
       "1004    Professional        Yes     0        0-1 Miles   Europe   55   \n",
       "1012        Clerical        Yes     0        0-1 Miles   Europe   36   \n",
       "1014        Clerical        Yes     0        1-2 Miles   Europe   35   \n",
       "1015      Management         No     3       5-10 Miles   Europe   56   \n",
       "1016        Clerical         No     1        0-1 Miles   Europe   34   \n",
       "1017        Clerical        Yes     0        0-1 Miles   Europe   63   \n",
       "1018        Clerical         No     1        0-1 Miles   Europe   29   \n",
       "1020  Skilled Manual        Yes     2       5-10 Miles  Pacific   44   \n",
       "1021          Manual         No     2        0-1 Miles   Europe   32   \n",
       "\n",
       "     Purchased Bike  \n",
       "1000             No  \n",
       "1001            Yes  \n",
       "1004             No  \n",
       "1012            Yes  \n",
       "1014            Yes  \n",
       "1015             No  \n",
       "1016             No  \n",
       "1017             No  \n",
       "1018            Yes  \n",
       "1020             No  \n",
       "1021            Yes  "
      ]
     },
     "execution_count": 116,
     "metadata": {},
     "output_type": "execute_result"
    }
   ],
   "source": [
    "duplicateRows = df[df.duplicated()]\n",
    "duplicateRows"
   ]
  },
  {
   "cell_type": "code",
   "execution_count": 117,
   "id": "9a383732-ea31-4372-997d-cd9269ba47ad",
   "metadata": {},
   "outputs": [],
   "source": [
    "df=df.drop_duplicates()"
   ]
  },
  {
   "cell_type": "code",
   "execution_count": 118,
   "id": "9f94d630-a7ba-476e-adfd-33e0143f5519",
   "metadata": {},
   "outputs": [
    {
     "name": "stdout",
     "output_type": "stream",
     "text": [
      "<class 'pandas.core.frame.DataFrame'>\n",
      "Index: 1015 entries, 0 to 1025\n",
      "Data columns (total 13 columns):\n",
      " #   Column            Non-Null Count  Dtype \n",
      "---  ------            --------------  ----- \n",
      " 0   ID                1015 non-null   int64 \n",
      " 1   Marital Status    1015 non-null   object\n",
      " 2   Gender            1015 non-null   object\n",
      " 3   Income            1015 non-null   object\n",
      " 4   Children          1015 non-null   object\n",
      " 5   Education         1006 non-null   object\n",
      " 6   Occupation        1013 non-null   object\n",
      " 7   Home Owner        1015 non-null   object\n",
      " 8   Cars              1015 non-null   int64 \n",
      " 9   Commute Distance  1015 non-null   object\n",
      " 10  Region            1013 non-null   object\n",
      " 11  Age               1015 non-null   int64 \n",
      " 12  Purchased Bike    1015 non-null   object\n",
      "dtypes: int64(3), object(10)\n",
      "memory usage: 111.0+ KB\n"
     ]
    }
   ],
   "source": [
    "df.info()"
   ]
  },
  {
   "cell_type": "code",
   "execution_count": 119,
   "id": "52d56f66-4935-4521-8480-f191b8f85c22",
   "metadata": {},
   "outputs": [
    {
     "name": "stdout",
     "output_type": "stream",
     "text": [
      "$40,000.00 \n",
      "30000\n",
      "80000\n",
      "70000\n",
      "10000\n",
      "160000\n",
      "40000\n",
      "20000\n",
      "120000\n",
      "$90,000.00 \n",
      "170000\n",
      "60000\n",
      "$80,000.00 \n",
      "100000\n",
      "90000\n",
      "130000\n",
      "150000\n",
      "50000\n",
      "110000\n",
      "$130,000.00 \n",
      "$10,000.00 \n",
      "$30,000.00 \n",
      "$110,000.00 \n",
      "$60,000.00 \n",
      "$100,000.00 \n",
      "$20,000.00 \n"
     ]
    }
   ],
   "source": [
    "for income in df['Income'].unique():\n",
    "    print(income)"
   ]
  },
  {
   "cell_type": "code",
   "execution_count": 120,
   "id": "d81930e5-7d02-45c7-814d-ee02c78ac3eb",
   "metadata": {},
   "outputs": [],
   "source": [
    "def incomeFunc(a):\n",
    "    if a is not None and a.startswith('$'):\n",
    "        return a[1:]\n",
    "    return a\n",
    "        \n",
    "         \n",
    "    "
   ]
  },
  {
   "cell_type": "code",
   "execution_count": 121,
   "id": "bea343c9-d8e5-403a-8a04-d898e4477e8a",
   "metadata": {},
   "outputs": [
    {
     "name": "stdout",
     "output_type": "stream",
     "text": [
      "$40,000.00 \n",
      "30000\n",
      "80000\n",
      "70000\n",
      "10000\n",
      "160000\n",
      "40000\n",
      "20000\n",
      "120000\n",
      "$90,000.00 \n",
      "170000\n",
      "60000\n",
      "$80,000.00 \n",
      "100000\n",
      "90000\n",
      "130000\n",
      "150000\n",
      "50000\n",
      "110000\n",
      "$130,000.00 \n",
      "$10,000.00 \n",
      "$30,000.00 \n",
      "$110,000.00 \n",
      "$60,000.00 \n",
      "$100,000.00 \n",
      "$20,000.00 \n"
     ]
    }
   ],
   "source": [
    "for income in df['Income'].unique():\n",
    "    print(income)"
   ]
  },
  {
   "cell_type": "code",
   "execution_count": 122,
   "id": "3d70f75b-d200-4e33-8488-82b5e2315a09",
   "metadata": {},
   "outputs": [],
   "source": [
    "# df['Income']=df['Income'].apply(incomeFunc)\n",
    "df.loc[:, 'Income'] = df['Income'].apply(incomeFunc)\n",
    "\n"
   ]
  },
  {
   "cell_type": "code",
   "execution_count": 123,
   "id": "470734bc-7232-464b-85b6-9c27edf101f2",
   "metadata": {},
   "outputs": [],
   "source": [
    "def commaFunction(a):\n",
    "    if ',' in a:\n",
    "        return a.replace(',', '')  \n",
    "    else:\n",
    "        return a \n"
   ]
  },
  {
   "cell_type": "code",
   "execution_count": 124,
   "id": "9f9a6ca5-3cc7-46c1-97a7-17417820b175",
   "metadata": {},
   "outputs": [],
   "source": [
    "# df['Income']=df['Income'].apply(commaFunction)\n",
    "\n",
    "\n",
    "df.loc[:, 'Income']=df['Income'].apply(commaFunction)"
   ]
  },
  {
   "cell_type": "code",
   "execution_count": 125,
   "id": "95c5a447-e92c-4398-b710-b3297f7e4701",
   "metadata": {},
   "outputs": [
    {
     "name": "stdout",
     "output_type": "stream",
     "text": [
      "40000.00 \n",
      "30000\n",
      "80000\n",
      "70000\n",
      "10000\n",
      "160000\n",
      "40000\n",
      "20000\n",
      "120000\n",
      "90000.00 \n",
      "170000\n",
      "60000\n",
      "80000.00 \n",
      "100000\n",
      "90000\n",
      "130000\n",
      "150000\n",
      "50000\n",
      "110000\n",
      "130000.00 \n",
      "10000.00 \n",
      "30000.00 \n",
      "110000.00 \n",
      "60000.00 \n",
      "100000.00 \n",
      "20000.00 \n"
     ]
    }
   ],
   "source": [
    "for income in df['Income'].unique():\n",
    "    print(income)"
   ]
  },
  {
   "cell_type": "code",
   "execution_count": 126,
   "id": "9c723fd3-bc22-4bb8-8f07-d0c3fb88e5a5",
   "metadata": {},
   "outputs": [
    {
     "name": "stderr",
     "output_type": "stream",
     "text": [
      "C:\\Users\\Alshuruq Company\\AppData\\Local\\Temp\\ipykernel_33200\\2273492392.py:1: SettingWithCopyWarning: \n",
      "A value is trying to be set on a copy of a slice from a DataFrame.\n",
      "Try using .loc[row_indexer,col_indexer] = value instead\n",
      "\n",
      "See the caveats in the documentation: https://pandas.pydata.org/pandas-docs/stable/user_guide/indexing.html#returning-a-view-versus-a-copy\n",
      "  df['Income']=pd.to_numeric(df['Income'],errors='coerce')\n"
     ]
    }
   ],
   "source": [
    "df['Income']=pd.to_numeric(df['Income'],errors='coerce')\n",
    "# df.loc[:, 'Income']=pd.to_numeric(df['Income'],errors='coerce')"
   ]
  },
  {
   "cell_type": "code",
   "execution_count": 127,
   "id": "2f25a836-8db5-4479-9262-66ed5284e18b",
   "metadata": {},
   "outputs": [
    {
     "name": "stdout",
     "output_type": "stream",
     "text": [
      "<class 'pandas.core.frame.DataFrame'>\n",
      "Index: 1015 entries, 0 to 1025\n",
      "Data columns (total 13 columns):\n",
      " #   Column            Non-Null Count  Dtype  \n",
      "---  ------            --------------  -----  \n",
      " 0   ID                1015 non-null   int64  \n",
      " 1   Marital Status    1015 non-null   object \n",
      " 2   Gender            1015 non-null   object \n",
      " 3   Income            1015 non-null   float64\n",
      " 4   Children          1015 non-null   object \n",
      " 5   Education         1006 non-null   object \n",
      " 6   Occupation        1013 non-null   object \n",
      " 7   Home Owner        1015 non-null   object \n",
      " 8   Cars              1015 non-null   int64  \n",
      " 9   Commute Distance  1015 non-null   object \n",
      " 10  Region            1013 non-null   object \n",
      " 11  Age               1015 non-null   int64  \n",
      " 12  Purchased Bike    1015 non-null   object \n",
      "dtypes: float64(1), int64(3), object(9)\n",
      "memory usage: 111.0+ KB\n"
     ]
    }
   ],
   "source": [
    "df.info()"
   ]
  },
  {
   "cell_type": "code",
   "execution_count": 128,
   "id": "7d6e6c40-55a0-452c-b852-decfa797981f",
   "metadata": {},
   "outputs": [
    {
     "data": {
      "text/html": [
       "<div>\n",
       "<style scoped>\n",
       "    .dataframe tbody tr th:only-of-type {\n",
       "        vertical-align: middle;\n",
       "    }\n",
       "\n",
       "    .dataframe tbody tr th {\n",
       "        vertical-align: top;\n",
       "    }\n",
       "\n",
       "    .dataframe thead th {\n",
       "        text-align: right;\n",
       "    }\n",
       "</style>\n",
       "<table border=\"1\" class=\"dataframe\">\n",
       "  <thead>\n",
       "    <tr style=\"text-align: right;\">\n",
       "      <th></th>\n",
       "      <th>ID</th>\n",
       "      <th>Marital Status</th>\n",
       "      <th>Gender</th>\n",
       "      <th>Income</th>\n",
       "      <th>Children</th>\n",
       "      <th>Education</th>\n",
       "      <th>Occupation</th>\n",
       "      <th>Home Owner</th>\n",
       "      <th>Cars</th>\n",
       "      <th>Commute Distance</th>\n",
       "      <th>Region</th>\n",
       "      <th>Age</th>\n",
       "      <th>Purchased Bike</th>\n",
       "    </tr>\n",
       "  </thead>\n",
       "  <tbody>\n",
       "    <tr>\n",
       "      <th>0</th>\n",
       "      <td>12496</td>\n",
       "      <td>M</td>\n",
       "      <td>F</td>\n",
       "      <td>40000.0</td>\n",
       "      <td>1</td>\n",
       "      <td>Bachelors</td>\n",
       "      <td>Skilled Manual</td>\n",
       "      <td>Yes</td>\n",
       "      <td>0</td>\n",
       "      <td>0-1 Miles</td>\n",
       "      <td>Europe</td>\n",
       "      <td>42</td>\n",
       "      <td>N</td>\n",
       "    </tr>\n",
       "    <tr>\n",
       "      <th>1</th>\n",
       "      <td>24107</td>\n",
       "      <td>M</td>\n",
       "      <td>M</td>\n",
       "      <td>30000.0</td>\n",
       "      <td>3</td>\n",
       "      <td>Partial College</td>\n",
       "      <td>Clerical</td>\n",
       "      <td>Yes</td>\n",
       "      <td>1</td>\n",
       "      <td>0-1 Miles</td>\n",
       "      <td>Europe</td>\n",
       "      <td>43</td>\n",
       "      <td>No</td>\n",
       "    </tr>\n",
       "    <tr>\n",
       "      <th>2</th>\n",
       "      <td>14177</td>\n",
       "      <td>married</td>\n",
       "      <td>Male</td>\n",
       "      <td>80000.0</td>\n",
       "      <td>5</td>\n",
       "      <td>Partial College</td>\n",
       "      <td>Professional</td>\n",
       "      <td>No</td>\n",
       "      <td>2</td>\n",
       "      <td>2-5 Miles</td>\n",
       "      <td>Europe</td>\n",
       "      <td>60</td>\n",
       "      <td>No</td>\n",
       "    </tr>\n",
       "    <tr>\n",
       "      <th>3</th>\n",
       "      <td>24381</td>\n",
       "      <td>S</td>\n",
       "      <td>Male</td>\n",
       "      <td>70000.0</td>\n",
       "      <td>0</td>\n",
       "      <td>Bachelors</td>\n",
       "      <td>Professional</td>\n",
       "      <td>Yes</td>\n",
       "      <td>1</td>\n",
       "      <td>5-10 Miles</td>\n",
       "      <td>Pacific</td>\n",
       "      <td>41</td>\n",
       "      <td>Y</td>\n",
       "    </tr>\n",
       "    <tr>\n",
       "      <th>4</th>\n",
       "      <td>25597</td>\n",
       "      <td>S</td>\n",
       "      <td>M</td>\n",
       "      <td>30000.0</td>\n",
       "      <td>0</td>\n",
       "      <td>Bachelors</td>\n",
       "      <td>Clerical</td>\n",
       "      <td>No</td>\n",
       "      <td>0</td>\n",
       "      <td>0-1 Miles</td>\n",
       "      <td>Europe</td>\n",
       "      <td>36</td>\n",
       "      <td>Yes</td>\n",
       "    </tr>\n",
       "    <tr>\n",
       "      <th>...</th>\n",
       "      <td>...</td>\n",
       "      <td>...</td>\n",
       "      <td>...</td>\n",
       "      <td>...</td>\n",
       "      <td>...</td>\n",
       "      <td>...</td>\n",
       "      <td>...</td>\n",
       "      <td>...</td>\n",
       "      <td>...</td>\n",
       "      <td>...</td>\n",
       "      <td>...</td>\n",
       "      <td>...</td>\n",
       "      <td>...</td>\n",
       "    </tr>\n",
       "    <tr>\n",
       "      <th>1019</th>\n",
       "      <td>18283</td>\n",
       "      <td>S</td>\n",
       "      <td>F</td>\n",
       "      <td>100000.0</td>\n",
       "      <td>0</td>\n",
       "      <td>Bachelors</td>\n",
       "      <td>Professional</td>\n",
       "      <td>No</td>\n",
       "      <td>1</td>\n",
       "      <td>5-10 Miles</td>\n",
       "      <td>Pacific</td>\n",
       "      <td>40</td>\n",
       "      <td>No</td>\n",
       "    </tr>\n",
       "    <tr>\n",
       "      <th>1022</th>\n",
       "      <td>19273</td>\n",
       "      <td>M</td>\n",
       "      <td>F</td>\n",
       "      <td>20000.0</td>\n",
       "      <td>2</td>\n",
       "      <td>Partial College</td>\n",
       "      <td>Manual</td>\n",
       "      <td>Yes</td>\n",
       "      <td>0</td>\n",
       "      <td>0-1 Miles</td>\n",
       "      <td>Europe</td>\n",
       "      <td>63</td>\n",
       "      <td>No</td>\n",
       "    </tr>\n",
       "    <tr>\n",
       "      <th>1023</th>\n",
       "      <td>22400</td>\n",
       "      <td>M</td>\n",
       "      <td>M</td>\n",
       "      <td>10000.0</td>\n",
       "      <td>0</td>\n",
       "      <td>Partial College</td>\n",
       "      <td>Manual</td>\n",
       "      <td>No</td>\n",
       "      <td>1</td>\n",
       "      <td>0-1 Miles</td>\n",
       "      <td>Pacific</td>\n",
       "      <td>26</td>\n",
       "      <td>Y</td>\n",
       "    </tr>\n",
       "    <tr>\n",
       "      <th>1024</th>\n",
       "      <td>20942</td>\n",
       "      <td>S</td>\n",
       "      <td>F</td>\n",
       "      <td>20000.0</td>\n",
       "      <td>0</td>\n",
       "      <td>High School</td>\n",
       "      <td>Manual</td>\n",
       "      <td>No</td>\n",
       "      <td>1</td>\n",
       "      <td>5-10 Miles</td>\n",
       "      <td>Europe</td>\n",
       "      <td>31</td>\n",
       "      <td>N</td>\n",
       "    </tr>\n",
       "    <tr>\n",
       "      <th>1025</th>\n",
       "      <td>18484</td>\n",
       "      <td>Single</td>\n",
       "      <td>male</td>\n",
       "      <td>80000.0</td>\n",
       "      <td>2</td>\n",
       "      <td>High School</td>\n",
       "      <td>Skilled Manual</td>\n",
       "      <td>No</td>\n",
       "      <td>2</td>\n",
       "      <td>1-2 Miles</td>\n",
       "      <td>Pacific</td>\n",
       "      <td>50</td>\n",
       "      <td>Yes</td>\n",
       "    </tr>\n",
       "  </tbody>\n",
       "</table>\n",
       "<p>1015 rows × 13 columns</p>\n",
       "</div>"
      ],
      "text/plain": [
       "         ID Marital Status Gender    Income Children        Education  \\\n",
       "0     12496              M      F   40000.0        1        Bachelors   \n",
       "1     24107              M      M   30000.0        3  Partial College   \n",
       "2     14177        married   Male   80000.0        5  Partial College   \n",
       "3     24381              S   Male   70000.0        0        Bachelors   \n",
       "4     25597              S      M   30000.0        0        Bachelors   \n",
       "...     ...            ...    ...       ...      ...              ...   \n",
       "1019  18283              S      F  100000.0        0        Bachelors   \n",
       "1022  19273              M      F   20000.0        2  Partial College   \n",
       "1023  22400              M      M   10000.0        0  Partial College   \n",
       "1024  20942              S      F   20000.0        0      High School   \n",
       "1025  18484         Single   male   80000.0        2      High School   \n",
       "\n",
       "          Occupation Home Owner  Cars Commute Distance   Region  Age  \\\n",
       "0     Skilled Manual        Yes     0        0-1 Miles   Europe   42   \n",
       "1           Clerical        Yes     1        0-1 Miles   Europe   43   \n",
       "2       Professional         No     2        2-5 Miles   Europe   60   \n",
       "3       Professional        Yes     1       5-10 Miles  Pacific   41   \n",
       "4           Clerical         No     0        0-1 Miles   Europe   36   \n",
       "...              ...        ...   ...              ...      ...  ...   \n",
       "1019    Professional         No     1       5-10 Miles  Pacific   40   \n",
       "1022          Manual        Yes     0        0-1 Miles   Europe   63   \n",
       "1023          Manual         No     1        0-1 Miles  Pacific   26   \n",
       "1024          Manual         No     1       5-10 Miles   Europe   31   \n",
       "1025  Skilled Manual         No     2        1-2 Miles  Pacific   50   \n",
       "\n",
       "     Purchased Bike  \n",
       "0                 N  \n",
       "1                No  \n",
       "2                No  \n",
       "3                 Y  \n",
       "4               Yes  \n",
       "...             ...  \n",
       "1019             No  \n",
       "1022             No  \n",
       "1023              Y  \n",
       "1024              N  \n",
       "1025            Yes  \n",
       "\n",
       "[1015 rows x 13 columns]"
      ]
     },
     "execution_count": 128,
     "metadata": {},
     "output_type": "execute_result"
    }
   ],
   "source": [
    "df"
   ]
  },
  {
   "cell_type": "code",
   "execution_count": 129,
   "id": "70054aab-00c8-45aa-98aa-876b26128e17",
   "metadata": {},
   "outputs": [
    {
     "name": "stdout",
     "output_type": "stream",
     "text": [
      "40000.0\n",
      "30000.0\n",
      "80000.0\n",
      "70000.0\n",
      "10000.0\n",
      "160000.0\n",
      "20000.0\n",
      "120000.0\n",
      "90000.0\n",
      "170000.0\n",
      "60000.0\n",
      "100000.0\n",
      "130000.0\n",
      "150000.0\n",
      "50000.0\n",
      "110000.0\n"
     ]
    }
   ],
   "source": [
    "for income in df['Income'].unique():\n",
    "    print(income)"
   ]
  },
  {
   "cell_type": "code",
   "execution_count": 130,
   "id": "0a923dc8-06fb-49cd-8313-be68c4b2df08",
   "metadata": {},
   "outputs": [
    {
     "name": "stdout",
     "output_type": "stream",
     "text": [
      "<class 'pandas.core.frame.DataFrame'>\n",
      "Index: 1015 entries, 0 to 1025\n",
      "Data columns (total 13 columns):\n",
      " #   Column            Non-Null Count  Dtype  \n",
      "---  ------            --------------  -----  \n",
      " 0   ID                1015 non-null   int64  \n",
      " 1   Marital Status    1015 non-null   object \n",
      " 2   Gender            1015 non-null   object \n",
      " 3   Income            1015 non-null   float64\n",
      " 4   Children          1015 non-null   object \n",
      " 5   Education         1006 non-null   object \n",
      " 6   Occupation        1013 non-null   object \n",
      " 7   Home Owner        1015 non-null   object \n",
      " 8   Cars              1015 non-null   int64  \n",
      " 9   Commute Distance  1015 non-null   object \n",
      " 10  Region            1013 non-null   object \n",
      " 11  Age               1015 non-null   int64  \n",
      " 12  Purchased Bike    1015 non-null   object \n",
      "dtypes: float64(1), int64(3), object(9)\n",
      "memory usage: 111.0+ KB\n"
     ]
    }
   ],
   "source": [
    "df.info()"
   ]
  },
  {
   "cell_type": "code",
   "execution_count": 131,
   "id": "2e6147ed-7e86-4928-80d1-6f799dc7222c",
   "metadata": {},
   "outputs": [
    {
     "name": "stdout",
     "output_type": "stream",
     "text": [
      "0-1 Miles\n",
      "2-5 Miles\n",
      "5-10 Miles\n",
      "1-2 Miles\n",
      "10+ Miles\n"
     ]
    }
   ],
   "source": [
    "for income in df['Commute Distance'].unique():\n",
    "    print(income)\n"
   ]
  },
  {
   "cell_type": "code",
   "execution_count": 221,
   "id": "b408db3b-87b7-41e7-af07-7123a924a17b",
   "metadata": {},
   "outputs": [
    {
     "ename": "KeyError",
     "evalue": "'Commute Distance'",
     "output_type": "error",
     "traceback": [
      "\u001b[1;31m---------------------------------------------------------------------------\u001b[0m",
      "\u001b[1;31mKeyError\u001b[0m                                  Traceback (most recent call last)",
      "File \u001b[1;32m~\\anaconda3\\Lib\\site-packages\\pandas\\core\\indexes\\base.py:3791\u001b[0m, in \u001b[0;36mIndex.get_loc\u001b[1;34m(self, key)\u001b[0m\n\u001b[0;32m   3790\u001b[0m \u001b[38;5;28;01mtry\u001b[39;00m:\n\u001b[1;32m-> 3791\u001b[0m     \u001b[38;5;28;01mreturn\u001b[39;00m \u001b[38;5;28mself\u001b[39m\u001b[38;5;241m.\u001b[39m_engine\u001b[38;5;241m.\u001b[39mget_loc(casted_key)\n\u001b[0;32m   3792\u001b[0m \u001b[38;5;28;01mexcept\u001b[39;00m \u001b[38;5;167;01mKeyError\u001b[39;00m \u001b[38;5;28;01mas\u001b[39;00m err:\n",
      "File \u001b[1;32mindex.pyx:152\u001b[0m, in \u001b[0;36mpandas._libs.index.IndexEngine.get_loc\u001b[1;34m()\u001b[0m\n",
      "File \u001b[1;32mindex.pyx:181\u001b[0m, in \u001b[0;36mpandas._libs.index.IndexEngine.get_loc\u001b[1;34m()\u001b[0m\n",
      "File \u001b[1;32mpandas\\_libs\\hashtable_class_helper.pxi:7080\u001b[0m, in \u001b[0;36mpandas._libs.hashtable.PyObjectHashTable.get_item\u001b[1;34m()\u001b[0m\n",
      "File \u001b[1;32mpandas\\_libs\\hashtable_class_helper.pxi:7088\u001b[0m, in \u001b[0;36mpandas._libs.hashtable.PyObjectHashTable.get_item\u001b[1;34m()\u001b[0m\n",
      "\u001b[1;31mKeyError\u001b[0m: 'Commute Distance'",
      "\nThe above exception was the direct cause of the following exception:\n",
      "\u001b[1;31mKeyError\u001b[0m                                  Traceback (most recent call last)",
      "Cell \u001b[1;32mIn[221], line 17\u001b[0m\n\u001b[0;32m     13\u001b[0m         \u001b[38;5;28;01mreturn\u001b[39;00m \u001b[38;5;28;01mNone\u001b[39;00m \n\u001b[0;32m     14\u001b[0m \u001b[38;5;66;03m# df['Commute Distance'] = df['Commute Distance'].apply(mapCommuteDistance) \u001b[39;00m\n\u001b[0;32m     15\u001b[0m \u001b[38;5;66;03m# df_filtered = df[df['Commute Distance'].notnull()] \u001b[39;00m\n\u001b[0;32m     16\u001b[0m \u001b[38;5;66;03m# df.rename(columns={'Commute Distance': 'Commute Distance (Miles)'}, inplace=True)\u001b[39;00m\n\u001b[1;32m---> 17\u001b[0m df\u001b[38;5;241m.\u001b[39mloc[:, \u001b[38;5;124m'\u001b[39m\u001b[38;5;124mCommute Distance\u001b[39m\u001b[38;5;124m'\u001b[39m] \u001b[38;5;241m=\u001b[39m df[\u001b[38;5;124m'\u001b[39m\u001b[38;5;124mCommute Distance\u001b[39m\u001b[38;5;124m'\u001b[39m]\u001b[38;5;241m.\u001b[39mapply(mapCommuteDistance) \n\u001b[0;32m     18\u001b[0m df_filtered \u001b[38;5;241m=\u001b[39m df\u001b[38;5;241m.\u001b[39mloc[df[\u001b[38;5;124m'\u001b[39m\u001b[38;5;124mCommute Distance\u001b[39m\u001b[38;5;124m'\u001b[39m]\u001b[38;5;241m.\u001b[39mnotnull()] \n\u001b[0;32m     19\u001b[0m max_commute_distance \u001b[38;5;241m=\u001b[39m df_filtered\u001b[38;5;241m.\u001b[39mgroupby(\u001b[38;5;124m'\u001b[39m\u001b[38;5;124mCommute Distance\u001b[39m\u001b[38;5;124m'\u001b[39m)\n",
      "File \u001b[1;32m~\\anaconda3\\Lib\\site-packages\\pandas\\core\\frame.py:3893\u001b[0m, in \u001b[0;36mDataFrame.__getitem__\u001b[1;34m(self, key)\u001b[0m\n\u001b[0;32m   3891\u001b[0m \u001b[38;5;28;01mif\u001b[39;00m \u001b[38;5;28mself\u001b[39m\u001b[38;5;241m.\u001b[39mcolumns\u001b[38;5;241m.\u001b[39mnlevels \u001b[38;5;241m>\u001b[39m \u001b[38;5;241m1\u001b[39m:\n\u001b[0;32m   3892\u001b[0m     \u001b[38;5;28;01mreturn\u001b[39;00m \u001b[38;5;28mself\u001b[39m\u001b[38;5;241m.\u001b[39m_getitem_multilevel(key)\n\u001b[1;32m-> 3893\u001b[0m indexer \u001b[38;5;241m=\u001b[39m \u001b[38;5;28mself\u001b[39m\u001b[38;5;241m.\u001b[39mcolumns\u001b[38;5;241m.\u001b[39mget_loc(key)\n\u001b[0;32m   3894\u001b[0m \u001b[38;5;28;01mif\u001b[39;00m is_integer(indexer):\n\u001b[0;32m   3895\u001b[0m     indexer \u001b[38;5;241m=\u001b[39m [indexer]\n",
      "File \u001b[1;32m~\\anaconda3\\Lib\\site-packages\\pandas\\core\\indexes\\base.py:3798\u001b[0m, in \u001b[0;36mIndex.get_loc\u001b[1;34m(self, key)\u001b[0m\n\u001b[0;32m   3793\u001b[0m     \u001b[38;5;28;01mif\u001b[39;00m \u001b[38;5;28misinstance\u001b[39m(casted_key, \u001b[38;5;28mslice\u001b[39m) \u001b[38;5;129;01mor\u001b[39;00m (\n\u001b[0;32m   3794\u001b[0m         \u001b[38;5;28misinstance\u001b[39m(casted_key, abc\u001b[38;5;241m.\u001b[39mIterable)\n\u001b[0;32m   3795\u001b[0m         \u001b[38;5;129;01mand\u001b[39;00m \u001b[38;5;28many\u001b[39m(\u001b[38;5;28misinstance\u001b[39m(x, \u001b[38;5;28mslice\u001b[39m) \u001b[38;5;28;01mfor\u001b[39;00m x \u001b[38;5;129;01min\u001b[39;00m casted_key)\n\u001b[0;32m   3796\u001b[0m     ):\n\u001b[0;32m   3797\u001b[0m         \u001b[38;5;28;01mraise\u001b[39;00m InvalidIndexError(key)\n\u001b[1;32m-> 3798\u001b[0m     \u001b[38;5;28;01mraise\u001b[39;00m \u001b[38;5;167;01mKeyError\u001b[39;00m(key) \u001b[38;5;28;01mfrom\u001b[39;00m \u001b[38;5;21;01merr\u001b[39;00m\n\u001b[0;32m   3799\u001b[0m \u001b[38;5;28;01mexcept\u001b[39;00m \u001b[38;5;167;01mTypeError\u001b[39;00m:\n\u001b[0;32m   3800\u001b[0m     \u001b[38;5;66;03m# If we have a listlike key, _check_indexing_error will raise\u001b[39;00m\n\u001b[0;32m   3801\u001b[0m     \u001b[38;5;66;03m#  InvalidIndexError. Otherwise we fall through and re-raise\u001b[39;00m\n\u001b[0;32m   3802\u001b[0m     \u001b[38;5;66;03m#  the TypeError.\u001b[39;00m\n\u001b[0;32m   3803\u001b[0m     \u001b[38;5;28mself\u001b[39m\u001b[38;5;241m.\u001b[39m_check_indexing_error(key)\n",
      "\u001b[1;31mKeyError\u001b[0m: 'Commute Distance'"
     ]
    }
   ],
   "source": [
    "def mapCommuteDistance(rangeStr):\n",
    "    if rangeStr == '0-1 Miles':\n",
    "        return 1\n",
    "    elif rangeStr == '2-5 Miles':\n",
    "        return 5\n",
    "    elif rangeStr == '5-10 Miles':\n",
    "        return 10\n",
    "    elif rangeStr == '1-2 Miles':\n",
    "        return 2\n",
    "    elif rangeStr == '10+ Miles':\n",
    "        return 10\n",
    "    else:\n",
    "        return None \n",
    "# df['Commute Distance'] = df['Commute Distance'].apply(mapCommuteDistance) \n",
    "# df_filtered = df[df['Commute Distance'].notnull()] \n",
    "# df.rename(columns={'Commute Distance': 'Commute Distance (Miles)'}, inplace=True)\n",
    "df.loc[:, 'Commute Distance'] = df['Commute Distance'].apply(mapCommuteDistance) \n",
    "df_filtered = df.loc[df['Commute Distance'].notnull()] \n",
    "max_commute_distance = df_filtered.groupby('Commute Distance')['Commute Distance'].max()"
   ]
  },
  {
   "cell_type": "code",
   "execution_count": 222,
   "id": "b3794a62-9ef3-45c4-8273-5878f3a70f37",
   "metadata": {},
   "outputs": [
    {
     "data": {
      "text/html": [
       "<div>\n",
       "<style scoped>\n",
       "    .dataframe tbody tr th:only-of-type {\n",
       "        vertical-align: middle;\n",
       "    }\n",
       "\n",
       "    .dataframe tbody tr th {\n",
       "        vertical-align: top;\n",
       "    }\n",
       "\n",
       "    .dataframe thead th {\n",
       "        text-align: right;\n",
       "    }\n",
       "</style>\n",
       "<table border=\"1\" class=\"dataframe\">\n",
       "  <thead>\n",
       "    <tr style=\"text-align: right;\">\n",
       "      <th></th>\n",
       "      <th>ID</th>\n",
       "      <th>Marital Status</th>\n",
       "      <th>Gender</th>\n",
       "      <th>Income</th>\n",
       "      <th>Children</th>\n",
       "      <th>Education</th>\n",
       "      <th>Occupation</th>\n",
       "      <th>Home Owner</th>\n",
       "      <th>Cars</th>\n",
       "      <th>Commute Distance (Miles)</th>\n",
       "      <th>Region</th>\n",
       "      <th>Age</th>\n",
       "      <th>Purchased Bike</th>\n",
       "    </tr>\n",
       "  </thead>\n",
       "  <tbody>\n",
       "    <tr>\n",
       "      <th>0</th>\n",
       "      <td>12496</td>\n",
       "      <td>married</td>\n",
       "      <td>female</td>\n",
       "      <td>40000.0</td>\n",
       "      <td>1</td>\n",
       "      <td>Bachelors</td>\n",
       "      <td>Skilled Manual</td>\n",
       "      <td>YES</td>\n",
       "      <td>0</td>\n",
       "      <td>1</td>\n",
       "      <td>Europe</td>\n",
       "      <td>42.0</td>\n",
       "      <td>NO</td>\n",
       "    </tr>\n",
       "    <tr>\n",
       "      <th>1</th>\n",
       "      <td>24107</td>\n",
       "      <td>married</td>\n",
       "      <td>male</td>\n",
       "      <td>30000.0</td>\n",
       "      <td>3</td>\n",
       "      <td>Partial College</td>\n",
       "      <td>Clerical</td>\n",
       "      <td>YES</td>\n",
       "      <td>1</td>\n",
       "      <td>1</td>\n",
       "      <td>Europe</td>\n",
       "      <td>43.0</td>\n",
       "      <td>NO</td>\n",
       "    </tr>\n",
       "    <tr>\n",
       "      <th>2</th>\n",
       "      <td>14177</td>\n",
       "      <td>married</td>\n",
       "      <td>male</td>\n",
       "      <td>80000.0</td>\n",
       "      <td>5</td>\n",
       "      <td>Partial College</td>\n",
       "      <td>Professional</td>\n",
       "      <td>NO</td>\n",
       "      <td>2</td>\n",
       "      <td>5</td>\n",
       "      <td>Europe</td>\n",
       "      <td>60.0</td>\n",
       "      <td>NO</td>\n",
       "    </tr>\n",
       "    <tr>\n",
       "      <th>3</th>\n",
       "      <td>24381</td>\n",
       "      <td>single</td>\n",
       "      <td>male</td>\n",
       "      <td>70000.0</td>\n",
       "      <td>0</td>\n",
       "      <td>Bachelors</td>\n",
       "      <td>Professional</td>\n",
       "      <td>YES</td>\n",
       "      <td>1</td>\n",
       "      <td>10</td>\n",
       "      <td>Pacific</td>\n",
       "      <td>41.0</td>\n",
       "      <td>YES</td>\n",
       "    </tr>\n",
       "    <tr>\n",
       "      <th>4</th>\n",
       "      <td>25597</td>\n",
       "      <td>single</td>\n",
       "      <td>male</td>\n",
       "      <td>30000.0</td>\n",
       "      <td>0</td>\n",
       "      <td>Bachelors</td>\n",
       "      <td>Clerical</td>\n",
       "      <td>NO</td>\n",
       "      <td>0</td>\n",
       "      <td>1</td>\n",
       "      <td>Europe</td>\n",
       "      <td>36.0</td>\n",
       "      <td>YES</td>\n",
       "    </tr>\n",
       "    <tr>\n",
       "      <th>...</th>\n",
       "      <td>...</td>\n",
       "      <td>...</td>\n",
       "      <td>...</td>\n",
       "      <td>...</td>\n",
       "      <td>...</td>\n",
       "      <td>...</td>\n",
       "      <td>...</td>\n",
       "      <td>...</td>\n",
       "      <td>...</td>\n",
       "      <td>...</td>\n",
       "      <td>...</td>\n",
       "      <td>...</td>\n",
       "      <td>...</td>\n",
       "    </tr>\n",
       "    <tr>\n",
       "      <th>1019</th>\n",
       "      <td>18283</td>\n",
       "      <td>single</td>\n",
       "      <td>female</td>\n",
       "      <td>100000.0</td>\n",
       "      <td>0</td>\n",
       "      <td>Bachelors</td>\n",
       "      <td>Professional</td>\n",
       "      <td>NO</td>\n",
       "      <td>1</td>\n",
       "      <td>10</td>\n",
       "      <td>Pacific</td>\n",
       "      <td>40.0</td>\n",
       "      <td>NO</td>\n",
       "    </tr>\n",
       "    <tr>\n",
       "      <th>1022</th>\n",
       "      <td>19273</td>\n",
       "      <td>married</td>\n",
       "      <td>female</td>\n",
       "      <td>20000.0</td>\n",
       "      <td>2</td>\n",
       "      <td>Partial College</td>\n",
       "      <td>Manual</td>\n",
       "      <td>YES</td>\n",
       "      <td>0</td>\n",
       "      <td>1</td>\n",
       "      <td>Europe</td>\n",
       "      <td>63.0</td>\n",
       "      <td>NO</td>\n",
       "    </tr>\n",
       "    <tr>\n",
       "      <th>1023</th>\n",
       "      <td>22400</td>\n",
       "      <td>married</td>\n",
       "      <td>male</td>\n",
       "      <td>10000.0</td>\n",
       "      <td>0</td>\n",
       "      <td>Partial College</td>\n",
       "      <td>Manual</td>\n",
       "      <td>NO</td>\n",
       "      <td>1</td>\n",
       "      <td>1</td>\n",
       "      <td>Pacific</td>\n",
       "      <td>26.0</td>\n",
       "      <td>YES</td>\n",
       "    </tr>\n",
       "    <tr>\n",
       "      <th>1024</th>\n",
       "      <td>20942</td>\n",
       "      <td>single</td>\n",
       "      <td>female</td>\n",
       "      <td>20000.0</td>\n",
       "      <td>0</td>\n",
       "      <td>High School</td>\n",
       "      <td>Manual</td>\n",
       "      <td>NO</td>\n",
       "      <td>1</td>\n",
       "      <td>10</td>\n",
       "      <td>Europe</td>\n",
       "      <td>31.0</td>\n",
       "      <td>NO</td>\n",
       "    </tr>\n",
       "    <tr>\n",
       "      <th>1025</th>\n",
       "      <td>18484</td>\n",
       "      <td>single</td>\n",
       "      <td>male</td>\n",
       "      <td>80000.0</td>\n",
       "      <td>2</td>\n",
       "      <td>High School</td>\n",
       "      <td>Skilled Manual</td>\n",
       "      <td>NO</td>\n",
       "      <td>2</td>\n",
       "      <td>2</td>\n",
       "      <td>Pacific</td>\n",
       "      <td>50.0</td>\n",
       "      <td>YES</td>\n",
       "    </tr>\n",
       "  </tbody>\n",
       "</table>\n",
       "<p>1004 rows × 13 columns</p>\n",
       "</div>"
      ],
      "text/plain": [
       "         ID Marital Status  Gender    Income Children        Education  \\\n",
       "0     12496        married  female   40000.0        1        Bachelors   \n",
       "1     24107        married    male   30000.0        3  Partial College   \n",
       "2     14177        married    male   80000.0        5  Partial College   \n",
       "3     24381         single    male   70000.0        0        Bachelors   \n",
       "4     25597         single    male   30000.0        0        Bachelors   \n",
       "...     ...            ...     ...       ...      ...              ...   \n",
       "1019  18283         single  female  100000.0        0        Bachelors   \n",
       "1022  19273        married  female   20000.0        2  Partial College   \n",
       "1023  22400        married    male   10000.0        0  Partial College   \n",
       "1024  20942         single  female   20000.0        0      High School   \n",
       "1025  18484         single    male   80000.0        2      High School   \n",
       "\n",
       "          Occupation Home Owner  Cars Commute Distance (Miles)   Region   Age  \\\n",
       "0     Skilled Manual        YES     0                        1   Europe  42.0   \n",
       "1           Clerical        YES     1                        1   Europe  43.0   \n",
       "2       Professional         NO     2                        5   Europe  60.0   \n",
       "3       Professional        YES     1                       10  Pacific  41.0   \n",
       "4           Clerical         NO     0                        1   Europe  36.0   \n",
       "...              ...        ...   ...                      ...      ...   ...   \n",
       "1019    Professional         NO     1                       10  Pacific  40.0   \n",
       "1022          Manual        YES     0                        1   Europe  63.0   \n",
       "1023          Manual         NO     1                        1  Pacific  26.0   \n",
       "1024          Manual         NO     1                       10   Europe  31.0   \n",
       "1025  Skilled Manual         NO     2                        2  Pacific  50.0   \n",
       "\n",
       "     Purchased Bike  \n",
       "0                NO  \n",
       "1                NO  \n",
       "2                NO  \n",
       "3               YES  \n",
       "4               YES  \n",
       "...             ...  \n",
       "1019             NO  \n",
       "1022             NO  \n",
       "1023            YES  \n",
       "1024             NO  \n",
       "1025            YES  \n",
       "\n",
       "[1004 rows x 13 columns]"
      ]
     },
     "execution_count": 222,
     "metadata": {},
     "output_type": "execute_result"
    }
   ],
   "source": [
    "df.rename(columns={'Commute Distance': 'Commute Distance (Miles)'}, inplace=True)\n",
    "df"
   ]
  },
  {
   "cell_type": "code",
   "execution_count": 134,
   "id": "5f0967d5-0b21-4178-9add-4e8f12547794",
   "metadata": {},
   "outputs": [
    {
     "name": "stdout",
     "output_type": "stream",
     "text": [
      "1\n",
      "3\n",
      "5\n",
      "0\n",
      "2\n",
      "one\n",
      "4\n"
     ]
    }
   ],
   "source": [
    "for child in df['Children'].unique():\n",
    "    print(child)"
   ]
  },
  {
   "cell_type": "code",
   "execution_count": 135,
   "id": "4005c30c-d704-43b7-b48e-25d9739d2b38",
   "metadata": {},
   "outputs": [],
   "source": [
    "# df['Children'] = df['Children'].replace('one', '1')    \n",
    "# df['Children']=pd.to_numeric(df['Children'],errors='coerce')\n",
    "\n",
    "\n",
    "df.loc[:, 'Children'] = df['Children'].replace('one', '1')\n",
    "df.loc[:, 'Children'] = pd.to_numeric(df['Children'], errors='coerce')"
   ]
  },
  {
   "cell_type": "code",
   "execution_count": 136,
   "id": "ee8fc155-480c-4574-99af-7120c63f6d67",
   "metadata": {},
   "outputs": [
    {
     "name": "stdout",
     "output_type": "stream",
     "text": [
      "1\n",
      "3\n",
      "5\n",
      "0\n",
      "2\n",
      "4\n"
     ]
    }
   ],
   "source": [
    "for child in df['Children'].unique():\n",
    "    print(child)"
   ]
  },
  {
   "cell_type": "code",
   "execution_count": 137,
   "id": "96609249-eb9f-4b79-89dd-7e316d6b74ad",
   "metadata": {},
   "outputs": [
    {
     "name": "stdout",
     "output_type": "stream",
     "text": [
      "<class 'pandas.core.frame.DataFrame'>\n",
      "Index: 1015 entries, 0 to 1025\n",
      "Data columns (total 13 columns):\n",
      " #   Column                    Non-Null Count  Dtype  \n",
      "---  ------                    --------------  -----  \n",
      " 0   ID                        1015 non-null   int64  \n",
      " 1   Marital Status            1015 non-null   object \n",
      " 2   Gender                    1015 non-null   object \n",
      " 3   Income                    1015 non-null   float64\n",
      " 4   Children                  1015 non-null   object \n",
      " 5   Education                 1006 non-null   object \n",
      " 6   Occupation                1013 non-null   object \n",
      " 7   Home Owner                1015 non-null   object \n",
      " 8   Cars                      1015 non-null   int64  \n",
      " 9   Commute Distance (Miles)  1015 non-null   object \n",
      " 10  Region                    1013 non-null   object \n",
      " 11  Age                       1015 non-null   int64  \n",
      " 12  Purchased Bike            1015 non-null   object \n",
      "dtypes: float64(1), int64(3), object(9)\n",
      "memory usage: 111.0+ KB\n"
     ]
    }
   ],
   "source": [
    "df.info()"
   ]
  },
  {
   "cell_type": "code",
   "execution_count": 139,
   "id": "921453ad-8163-49fb-ad4f-e0752cc2914e",
   "metadata": {},
   "outputs": [
    {
     "data": {
      "text/html": [
       "<div>\n",
       "<style scoped>\n",
       "    .dataframe tbody tr th:only-of-type {\n",
       "        vertical-align: middle;\n",
       "    }\n",
       "\n",
       "    .dataframe tbody tr th {\n",
       "        vertical-align: top;\n",
       "    }\n",
       "\n",
       "    .dataframe thead th {\n",
       "        text-align: right;\n",
       "    }\n",
       "</style>\n",
       "<table border=\"1\" class=\"dataframe\">\n",
       "  <thead>\n",
       "    <tr style=\"text-align: right;\">\n",
       "      <th></th>\n",
       "      <th>ID</th>\n",
       "      <th>Income</th>\n",
       "      <th>Cars</th>\n",
       "      <th>Age</th>\n",
       "    </tr>\n",
       "  </thead>\n",
       "  <tbody>\n",
       "    <tr>\n",
       "      <th>count</th>\n",
       "      <td>1015.000000</td>\n",
       "      <td>1015.000000</td>\n",
       "      <td>1015.000000</td>\n",
       "      <td>1015.000000</td>\n",
       "    </tr>\n",
       "    <tr>\n",
       "      <th>mean</th>\n",
       "      <td>19980.878818</td>\n",
       "      <td>56177.339901</td>\n",
       "      <td>1.443350</td>\n",
       "      <td>44.149754</td>\n",
       "    </tr>\n",
       "    <tr>\n",
       "      <th>std</th>\n",
       "      <td>5332.459858</td>\n",
       "      <td>31093.929068</td>\n",
       "      <td>1.125503</td>\n",
       "      <td>11.354570</td>\n",
       "    </tr>\n",
       "    <tr>\n",
       "      <th>min</th>\n",
       "      <td>11000.000000</td>\n",
       "      <td>10000.000000</td>\n",
       "      <td>0.000000</td>\n",
       "      <td>25.000000</td>\n",
       "    </tr>\n",
       "    <tr>\n",
       "      <th>25%</th>\n",
       "      <td>15307.500000</td>\n",
       "      <td>30000.000000</td>\n",
       "      <td>1.000000</td>\n",
       "      <td>35.000000</td>\n",
       "    </tr>\n",
       "    <tr>\n",
       "      <th>50%</th>\n",
       "      <td>19758.000000</td>\n",
       "      <td>60000.000000</td>\n",
       "      <td>1.000000</td>\n",
       "      <td>43.000000</td>\n",
       "    </tr>\n",
       "    <tr>\n",
       "      <th>75%</th>\n",
       "      <td>24449.500000</td>\n",
       "      <td>70000.000000</td>\n",
       "      <td>2.000000</td>\n",
       "      <td>52.000000</td>\n",
       "    </tr>\n",
       "    <tr>\n",
       "      <th>max</th>\n",
       "      <td>29447.000000</td>\n",
       "      <td>170000.000000</td>\n",
       "      <td>4.000000</td>\n",
       "      <td>89.000000</td>\n",
       "    </tr>\n",
       "  </tbody>\n",
       "</table>\n",
       "</div>"
      ],
      "text/plain": [
       "                 ID         Income         Cars          Age\n",
       "count   1015.000000    1015.000000  1015.000000  1015.000000\n",
       "mean   19980.878818   56177.339901     1.443350    44.149754\n",
       "std     5332.459858   31093.929068     1.125503    11.354570\n",
       "min    11000.000000   10000.000000     0.000000    25.000000\n",
       "25%    15307.500000   30000.000000     1.000000    35.000000\n",
       "50%    19758.000000   60000.000000     1.000000    43.000000\n",
       "75%    24449.500000   70000.000000     2.000000    52.000000\n",
       "max    29447.000000  170000.000000     4.000000    89.000000"
      ]
     },
     "execution_count": 139,
     "metadata": {},
     "output_type": "execute_result"
    }
   ],
   "source": [
    "df.describe()"
   ]
  },
  {
   "cell_type": "code",
   "execution_count": 140,
   "id": "1d28571e-db90-41a4-aca9-9a4a5efb905a",
   "metadata": {},
   "outputs": [
    {
     "data": {
      "text/plain": [
       "Income\n",
       "10000.0      75\n",
       "20000.0      77\n",
       "30000.0     138\n",
       "40000.0     156\n",
       "50000.0      40\n",
       "60000.0     166\n",
       "70000.0     124\n",
       "80000.0      93\n",
       "90000.0      40\n",
       "100000.0     30\n",
       "110000.0     16\n",
       "120000.0     18\n",
       "130000.0     32\n",
       "150000.0      4\n",
       "160000.0      3\n",
       "170000.0      3\n",
       "Name: ID, dtype: int64"
      ]
     },
     "execution_count": 140,
     "metadata": {},
     "output_type": "execute_result"
    }
   ],
   "source": [
    "df.groupby('Income').count()['ID']"
   ]
  },
  {
   "cell_type": "code",
   "execution_count": 141,
   "id": "6bf22176-6f9c-4b46-9bfb-03a50d5c35c9",
   "metadata": {},
   "outputs": [
    {
     "data": {
      "text/plain": [
       "Age\n",
       "25     6\n",
       "26    17\n",
       "27    23\n",
       "28    22\n",
       "29    16\n",
       "30    27\n",
       "31    26\n",
       "32    33\n",
       "33    21\n",
       "34    31\n",
       "35    39\n",
       "36    38\n",
       "37    32\n",
       "38    38\n",
       "39    22\n",
       "40    43\n",
       "41    28\n",
       "42    34\n",
       "43    36\n",
       "44    27\n",
       "45    32\n",
       "46    27\n",
       "47    40\n",
       "48    29\n",
       "49    23\n",
       "50    25\n",
       "51    22\n",
       "52    25\n",
       "53    24\n",
       "54    17\n",
       "55    19\n",
       "56    16\n",
       "57     8\n",
       "58    12\n",
       "59    21\n",
       "60    15\n",
       "61     9\n",
       "62    13\n",
       "63    10\n",
       "64    10\n",
       "65     9\n",
       "66    14\n",
       "67    10\n",
       "68     3\n",
       "69     8\n",
       "70     4\n",
       "71     1\n",
       "72     1\n",
       "73     4\n",
       "74     1\n",
       "78     2\n",
       "80     1\n",
       "89     1\n",
       "Name: ID, dtype: int64"
      ]
     },
     "execution_count": 141,
     "metadata": {},
     "output_type": "execute_result"
    }
   ],
   "source": [
    "df.groupby('Age').count()['ID']"
   ]
  },
  {
   "cell_type": "code",
   "execution_count": 142,
   "id": "275597b1-8672-4dec-ac82-d3da35efdf4a",
   "metadata": {},
   "outputs": [
    {
     "data": {
      "text/html": [
       "<div>\n",
       "<style scoped>\n",
       "    .dataframe tbody tr th:only-of-type {\n",
       "        vertical-align: middle;\n",
       "    }\n",
       "\n",
       "    .dataframe tbody tr th {\n",
       "        vertical-align: top;\n",
       "    }\n",
       "\n",
       "    .dataframe thead th {\n",
       "        text-align: right;\n",
       "    }\n",
       "</style>\n",
       "<table border=\"1\" class=\"dataframe\">\n",
       "  <thead>\n",
       "    <tr style=\"text-align: right;\">\n",
       "      <th></th>\n",
       "      <th>ID</th>\n",
       "      <th>Marital Status</th>\n",
       "      <th>Gender</th>\n",
       "      <th>Income</th>\n",
       "      <th>Children</th>\n",
       "      <th>Education</th>\n",
       "      <th>Occupation</th>\n",
       "      <th>Home Owner</th>\n",
       "      <th>Cars</th>\n",
       "      <th>Commute Distance (Miles)</th>\n",
       "      <th>Region</th>\n",
       "      <th>Age</th>\n",
       "      <th>Purchased Bike</th>\n",
       "    </tr>\n",
       "  </thead>\n",
       "  <tbody>\n",
       "    <tr>\n",
       "      <th>0</th>\n",
       "      <td>12496</td>\n",
       "      <td>M</td>\n",
       "      <td>F</td>\n",
       "      <td>40000.0</td>\n",
       "      <td>1</td>\n",
       "      <td>Bachelors</td>\n",
       "      <td>Skilled Manual</td>\n",
       "      <td>Yes</td>\n",
       "      <td>0</td>\n",
       "      <td>1</td>\n",
       "      <td>Europe</td>\n",
       "      <td>42</td>\n",
       "      <td>N</td>\n",
       "    </tr>\n",
       "    <tr>\n",
       "      <th>1</th>\n",
       "      <td>24107</td>\n",
       "      <td>M</td>\n",
       "      <td>M</td>\n",
       "      <td>30000.0</td>\n",
       "      <td>3</td>\n",
       "      <td>Partial College</td>\n",
       "      <td>Clerical</td>\n",
       "      <td>Yes</td>\n",
       "      <td>1</td>\n",
       "      <td>1</td>\n",
       "      <td>Europe</td>\n",
       "      <td>43</td>\n",
       "      <td>No</td>\n",
       "    </tr>\n",
       "    <tr>\n",
       "      <th>2</th>\n",
       "      <td>14177</td>\n",
       "      <td>married</td>\n",
       "      <td>Male</td>\n",
       "      <td>80000.0</td>\n",
       "      <td>5</td>\n",
       "      <td>Partial College</td>\n",
       "      <td>Professional</td>\n",
       "      <td>No</td>\n",
       "      <td>2</td>\n",
       "      <td>5</td>\n",
       "      <td>Europe</td>\n",
       "      <td>60</td>\n",
       "      <td>No</td>\n",
       "    </tr>\n",
       "    <tr>\n",
       "      <th>3</th>\n",
       "      <td>24381</td>\n",
       "      <td>S</td>\n",
       "      <td>Male</td>\n",
       "      <td>70000.0</td>\n",
       "      <td>0</td>\n",
       "      <td>Bachelors</td>\n",
       "      <td>Professional</td>\n",
       "      <td>Yes</td>\n",
       "      <td>1</td>\n",
       "      <td>10</td>\n",
       "      <td>Pacific</td>\n",
       "      <td>41</td>\n",
       "      <td>Y</td>\n",
       "    </tr>\n",
       "    <tr>\n",
       "      <th>4</th>\n",
       "      <td>25597</td>\n",
       "      <td>S</td>\n",
       "      <td>M</td>\n",
       "      <td>30000.0</td>\n",
       "      <td>0</td>\n",
       "      <td>Bachelors</td>\n",
       "      <td>Clerical</td>\n",
       "      <td>No</td>\n",
       "      <td>0</td>\n",
       "      <td>1</td>\n",
       "      <td>Europe</td>\n",
       "      <td>36</td>\n",
       "      <td>Yes</td>\n",
       "    </tr>\n",
       "    <tr>\n",
       "      <th>...</th>\n",
       "      <td>...</td>\n",
       "      <td>...</td>\n",
       "      <td>...</td>\n",
       "      <td>...</td>\n",
       "      <td>...</td>\n",
       "      <td>...</td>\n",
       "      <td>...</td>\n",
       "      <td>...</td>\n",
       "      <td>...</td>\n",
       "      <td>...</td>\n",
       "      <td>...</td>\n",
       "      <td>...</td>\n",
       "      <td>...</td>\n",
       "    </tr>\n",
       "    <tr>\n",
       "      <th>1019</th>\n",
       "      <td>18283</td>\n",
       "      <td>S</td>\n",
       "      <td>F</td>\n",
       "      <td>100000.0</td>\n",
       "      <td>0</td>\n",
       "      <td>Bachelors</td>\n",
       "      <td>Professional</td>\n",
       "      <td>No</td>\n",
       "      <td>1</td>\n",
       "      <td>10</td>\n",
       "      <td>Pacific</td>\n",
       "      <td>40</td>\n",
       "      <td>No</td>\n",
       "    </tr>\n",
       "    <tr>\n",
       "      <th>1022</th>\n",
       "      <td>19273</td>\n",
       "      <td>M</td>\n",
       "      <td>F</td>\n",
       "      <td>20000.0</td>\n",
       "      <td>2</td>\n",
       "      <td>Partial College</td>\n",
       "      <td>Manual</td>\n",
       "      <td>Yes</td>\n",
       "      <td>0</td>\n",
       "      <td>1</td>\n",
       "      <td>Europe</td>\n",
       "      <td>63</td>\n",
       "      <td>No</td>\n",
       "    </tr>\n",
       "    <tr>\n",
       "      <th>1023</th>\n",
       "      <td>22400</td>\n",
       "      <td>M</td>\n",
       "      <td>M</td>\n",
       "      <td>10000.0</td>\n",
       "      <td>0</td>\n",
       "      <td>Partial College</td>\n",
       "      <td>Manual</td>\n",
       "      <td>No</td>\n",
       "      <td>1</td>\n",
       "      <td>1</td>\n",
       "      <td>Pacific</td>\n",
       "      <td>26</td>\n",
       "      <td>Y</td>\n",
       "    </tr>\n",
       "    <tr>\n",
       "      <th>1024</th>\n",
       "      <td>20942</td>\n",
       "      <td>S</td>\n",
       "      <td>F</td>\n",
       "      <td>20000.0</td>\n",
       "      <td>0</td>\n",
       "      <td>High School</td>\n",
       "      <td>Manual</td>\n",
       "      <td>No</td>\n",
       "      <td>1</td>\n",
       "      <td>10</td>\n",
       "      <td>Europe</td>\n",
       "      <td>31</td>\n",
       "      <td>N</td>\n",
       "    </tr>\n",
       "    <tr>\n",
       "      <th>1025</th>\n",
       "      <td>18484</td>\n",
       "      <td>Single</td>\n",
       "      <td>male</td>\n",
       "      <td>80000.0</td>\n",
       "      <td>2</td>\n",
       "      <td>High School</td>\n",
       "      <td>Skilled Manual</td>\n",
       "      <td>No</td>\n",
       "      <td>2</td>\n",
       "      <td>2</td>\n",
       "      <td>Pacific</td>\n",
       "      <td>50</td>\n",
       "      <td>Yes</td>\n",
       "    </tr>\n",
       "  </tbody>\n",
       "</table>\n",
       "<p>1015 rows × 13 columns</p>\n",
       "</div>"
      ],
      "text/plain": [
       "         ID Marital Status Gender    Income Children        Education  \\\n",
       "0     12496              M      F   40000.0        1        Bachelors   \n",
       "1     24107              M      M   30000.0        3  Partial College   \n",
       "2     14177        married   Male   80000.0        5  Partial College   \n",
       "3     24381              S   Male   70000.0        0        Bachelors   \n",
       "4     25597              S      M   30000.0        0        Bachelors   \n",
       "...     ...            ...    ...       ...      ...              ...   \n",
       "1019  18283              S      F  100000.0        0        Bachelors   \n",
       "1022  19273              M      F   20000.0        2  Partial College   \n",
       "1023  22400              M      M   10000.0        0  Partial College   \n",
       "1024  20942              S      F   20000.0        0      High School   \n",
       "1025  18484         Single   male   80000.0        2      High School   \n",
       "\n",
       "          Occupation Home Owner  Cars Commute Distance (Miles)   Region  Age  \\\n",
       "0     Skilled Manual        Yes     0                        1   Europe   42   \n",
       "1           Clerical        Yes     1                        1   Europe   43   \n",
       "2       Professional         No     2                        5   Europe   60   \n",
       "3       Professional        Yes     1                       10  Pacific   41   \n",
       "4           Clerical         No     0                        1   Europe   36   \n",
       "...              ...        ...   ...                      ...      ...  ...   \n",
       "1019    Professional         No     1                       10  Pacific   40   \n",
       "1022          Manual        Yes     0                        1   Europe   63   \n",
       "1023          Manual         No     1                        1  Pacific   26   \n",
       "1024          Manual         No     1                       10   Europe   31   \n",
       "1025  Skilled Manual         No     2                        2  Pacific   50   \n",
       "\n",
       "     Purchased Bike  \n",
       "0                 N  \n",
       "1                No  \n",
       "2                No  \n",
       "3                 Y  \n",
       "4               Yes  \n",
       "...             ...  \n",
       "1019             No  \n",
       "1022             No  \n",
       "1023              Y  \n",
       "1024              N  \n",
       "1025            Yes  \n",
       "\n",
       "[1015 rows x 13 columns]"
      ]
     },
     "execution_count": 142,
     "metadata": {},
     "output_type": "execute_result"
    }
   ],
   "source": [
    "df\n"
   ]
  },
  {
   "cell_type": "code",
   "execution_count": 143,
   "id": "8834302f-fc7b-4aaf-8df8-c4712fdd18cc",
   "metadata": {},
   "outputs": [
    {
     "data": {
      "text/plain": [
       "array(['M', 'married', 'S', 'Single', 'single', 'Maride'], dtype=object)"
      ]
     },
     "execution_count": 143,
     "metadata": {},
     "output_type": "execute_result"
    }
   ],
   "source": [
    "df['Marital Status'].unique()"
   ]
  },
  {
   "cell_type": "code",
   "execution_count": 144,
   "id": "2d1f8a36-1d18-49f5-88df-c76dd0448aba",
   "metadata": {},
   "outputs": [],
   "source": [
    "def lower(a):\n",
    "    return a.lower()\n",
    "\n",
    "# df['Marital Status']=df['Marital Status'].apply(lower)\n",
    "df.loc[:, 'Marital Status'] = df['Marital Status'].str.lower()"
   ]
  },
  {
   "cell_type": "code",
   "execution_count": 145,
   "id": "615498cf-86a3-43a9-8e83-96898133af4b",
   "metadata": {},
   "outputs": [
    {
     "data": {
      "text/plain": [
       "Marital Status\n",
       "m          537\n",
       "maride       1\n",
       "married      5\n",
       "s          463\n",
       "single       9\n",
       "Name: ID, dtype: int64"
      ]
     },
     "execution_count": 145,
     "metadata": {},
     "output_type": "execute_result"
    }
   ],
   "source": [
    "df['Marital Status'].unique()\n",
    "df.groupby('Marital Status').count()['ID']"
   ]
  },
  {
   "cell_type": "code",
   "execution_count": 146,
   "id": "5b8a6ba8-31e5-4217-a7ed-4170f7396817",
   "metadata": {},
   "outputs": [],
   "source": [
    "def convertStatus(a):\n",
    "    if a is None:\n",
    "        return a \n",
    "    if a == 'm':\n",
    "        return a.replace('m', 'married')\n",
    "    elif a == 's':\n",
    "        return a.replace('s', 'single')\n",
    "    elif 'maride' in a:\n",
    "        return a.replace('maride', 'married') \n",
    "    else:\n",
    "        return a.lower() \n",
    "\n",
    " \n",
    "# df['Marital Status']=df['Marital Status'].apply(convertStatus)     \n",
    "df.loc[:, 'Marital Status'] =df['Marital Status'].apply(convertStatus)  "
   ]
  },
  {
   "cell_type": "code",
   "execution_count": 147,
   "id": "13f6208e-0be3-4a54-a1dc-da0be0e7c81d",
   "metadata": {},
   "outputs": [
    {
     "data": {
      "text/plain": [
       "array(['married', 'single'], dtype=object)"
      ]
     },
     "execution_count": 147,
     "metadata": {},
     "output_type": "execute_result"
    }
   ],
   "source": [
    "df['Marital Status'].unique()"
   ]
  },
  {
   "cell_type": "code",
   "execution_count": 148,
   "id": "2aec2c96-993b-4f46-8ca7-2935e9ce9d9b",
   "metadata": {},
   "outputs": [
    {
     "data": {
      "text/plain": [
       "Marital Status\n",
       "married    543\n",
       "single     472\n",
       "Name: ID, dtype: int64"
      ]
     },
     "execution_count": 148,
     "metadata": {},
     "output_type": "execute_result"
    }
   ],
   "source": [
    "df.groupby('Marital Status').count()['ID']"
   ]
  },
  {
   "cell_type": "code",
   "execution_count": 149,
   "id": "eb666656-6658-4506-8305-a99bc8d605b3",
   "metadata": {},
   "outputs": [
    {
     "data": {
      "text/plain": [
       "array(['F', 'M', 'Male', 'Female', 'female', 'male'], dtype=object)"
      ]
     },
     "execution_count": 149,
     "metadata": {},
     "output_type": "execute_result"
    }
   ],
   "source": [
    "df['Gender'].unique()\n"
   ]
  },
  {
   "cell_type": "code",
   "execution_count": 150,
   "id": "40845369-ee74-48b1-be97-44dc61d18ad4",
   "metadata": {},
   "outputs": [
    {
     "data": {
      "text/plain": [
       "Gender\n",
       "F         494\n",
       "Female      2\n",
       "M         511\n",
       "Male        6\n",
       "female      1\n",
       "male        1\n",
       "Name: ID, dtype: int64"
      ]
     },
     "execution_count": 150,
     "metadata": {},
     "output_type": "execute_result"
    }
   ],
   "source": [
    "df.groupby('Gender').count()['ID']"
   ]
  },
  {
   "cell_type": "code",
   "execution_count": 151,
   "id": "54696bf1-de5c-4bab-9dc6-b63eb48a5d24",
   "metadata": {},
   "outputs": [],
   "source": [
    "# df['Gender']=df['Gender'].apply(lower)\n",
    "df.loc[:, 'Gender'] =df['Gender'].apply(lower)"
   ]
  },
  {
   "cell_type": "code",
   "execution_count": 152,
   "id": "a3cd08fe-f00c-420a-a9b2-3dd082fb8f4d",
   "metadata": {},
   "outputs": [
    {
     "data": {
      "text/plain": [
       "array(['f', 'm', 'male', 'female'], dtype=object)"
      ]
     },
     "execution_count": 152,
     "metadata": {},
     "output_type": "execute_result"
    }
   ],
   "source": [
    "df['Gender'].unique()"
   ]
  },
  {
   "cell_type": "code",
   "execution_count": 153,
   "id": "96e1395a-25d1-4a7d-892c-57ac3a39cb1e",
   "metadata": {},
   "outputs": [],
   "source": [
    "def convertGender(a):\n",
    "    if a is None:\n",
    "        return a\n",
    "    if a == 'f':\n",
    "        return a.replace('f', 'female')\n",
    "    elif a == 'm':\n",
    "        return a.replace('m', 'male')\n",
    "    else:\n",
    "        return a.lower() \n",
    "\n",
    " \n",
    "# df['Gender']=df['Gender'].apply(convertGender) \n",
    "df.loc[:, 'Gender'] =df['Gender'].apply(convertGender) "
   ]
  },
  {
   "cell_type": "code",
   "execution_count": 154,
   "id": "3b2a3f5e-3f7b-4102-a73b-bf9f9eca10e7",
   "metadata": {
    "scrolled": true
   },
   "outputs": [
    {
     "data": {
      "text/plain": [
       "array(['female', 'male'], dtype=object)"
      ]
     },
     "execution_count": 154,
     "metadata": {},
     "output_type": "execute_result"
    }
   ],
   "source": [
    "df['Gender'].unique()"
   ]
  },
  {
   "cell_type": "code",
   "execution_count": 155,
   "id": "9c2cdf2d-1fc4-40f3-bf60-982b720427a5",
   "metadata": {},
   "outputs": [
    {
     "data": {
      "text/plain": [
       "Gender\n",
       "female    497\n",
       "male      518\n",
       "Name: ID, dtype: int64"
      ]
     },
     "execution_count": 155,
     "metadata": {},
     "output_type": "execute_result"
    }
   ],
   "source": [
    "df.groupby('Gender').count()['ID']"
   ]
  },
  {
   "cell_type": "code",
   "execution_count": 156,
   "id": "147a1383-af16-4788-b39a-5a05853dec71",
   "metadata": {},
   "outputs": [
    {
     "data": {
      "text/plain": [
       "array(['Yes', 'No'], dtype=object)"
      ]
     },
     "execution_count": 156,
     "metadata": {},
     "output_type": "execute_result"
    }
   ],
   "source": [
    "df['Home Owner'].unique()"
   ]
  },
  {
   "cell_type": "code",
   "execution_count": 157,
   "id": "cbc9c975-712e-4e36-b50a-cb39ae3377ef",
   "metadata": {},
   "outputs": [
    {
     "data": {
      "text/plain": [
       "array(['N', 'No', 'Y', 'Yes', 'y', 'n'], dtype=object)"
      ]
     },
     "execution_count": 157,
     "metadata": {},
     "output_type": "execute_result"
    }
   ],
   "source": [
    "df['Purchased Bike'].unique()"
   ]
  },
  {
   "cell_type": "code",
   "execution_count": 158,
   "id": "7416e814-0a27-4c6d-aa84-240eaa0ddbc2",
   "metadata": {},
   "outputs": [],
   "source": [
    "def upper(a):\n",
    "    return a.upper()\n",
    "\n",
    "# df['Purchased Bike']=df['Purchased Bike'].apply(upper)\n",
    "df.loc[:, 'Purchased Bike']=df['Purchased Bike'].apply(upper)\n",
    "# df['Home Owner']=df['Home Owner'].apply(upper)\n",
    "df.loc[:, 'Home Owner'] =df['Home Owner'].apply(upper)"
   ]
  },
  {
   "cell_type": "code",
   "execution_count": 159,
   "id": "116261c1-1394-412b-a9a1-b86f0631de15",
   "metadata": {},
   "outputs": [
    {
     "data": {
      "text/plain": [
       "array(['N', 'NO', 'Y', 'YES'], dtype=object)"
      ]
     },
     "execution_count": 159,
     "metadata": {},
     "output_type": "execute_result"
    }
   ],
   "source": [
    "df['Purchased Bike'].unique()"
   ]
  },
  {
   "cell_type": "code",
   "execution_count": 160,
   "id": "7a095157-70c8-4cf6-84dd-d026b44e6c85",
   "metadata": {},
   "outputs": [],
   "source": [
    "def convertPurchased(a):\n",
    "    if a is None:\n",
    "        return a\n",
    "    if a == 'Y':\n",
    "        return a.replace('Y', 'YES')\n",
    "    elif a == 'N':\n",
    "        return a.replace('N', 'NO')\n",
    "    else:\n",
    "        return a.upper() \n",
    "\n",
    " \n",
    "# df['Purchased Bike']=df['Purchased Bike'].apply(convertPurchased) \n",
    "df.loc[:, 'Purchased Bike']=df['Purchased Bike'].apply(convertPurchased) "
   ]
  },
  {
   "cell_type": "code",
   "execution_count": 161,
   "id": "e8b8b866-6572-4025-8518-5f4eb2092f5d",
   "metadata": {},
   "outputs": [
    {
     "data": {
      "text/plain": [
       "array(['NO', 'YES'], dtype=object)"
      ]
     },
     "execution_count": 161,
     "metadata": {},
     "output_type": "execute_result"
    }
   ],
   "source": [
    "df['Purchased Bike'].unique()"
   ]
  },
  {
   "cell_type": "code",
   "execution_count": 162,
   "id": "f5399c3f-4ffe-4ee3-9795-57733dd58e08",
   "metadata": {},
   "outputs": [
    {
     "name": "stdout",
     "output_type": "stream",
     "text": [
      "<class 'pandas.core.frame.DataFrame'>\n",
      "Index: 1015 entries, 0 to 1025\n",
      "Data columns (total 13 columns):\n",
      " #   Column                    Non-Null Count  Dtype  \n",
      "---  ------                    --------------  -----  \n",
      " 0   ID                        1015 non-null   int64  \n",
      " 1   Marital Status            1015 non-null   object \n",
      " 2   Gender                    1015 non-null   object \n",
      " 3   Income                    1015 non-null   float64\n",
      " 4   Children                  1015 non-null   object \n",
      " 5   Education                 1006 non-null   object \n",
      " 6   Occupation                1013 non-null   object \n",
      " 7   Home Owner                1015 non-null   object \n",
      " 8   Cars                      1015 non-null   int64  \n",
      " 9   Commute Distance (Miles)  1015 non-null   object \n",
      " 10  Region                    1013 non-null   object \n",
      " 11  Age                       1015 non-null   int64  \n",
      " 12  Purchased Bike            1015 non-null   object \n",
      "dtypes: float64(1), int64(3), object(9)\n",
      "memory usage: 111.0+ KB\n"
     ]
    }
   ],
   "source": [
    "df.info()"
   ]
  },
  {
   "cell_type": "code",
   "execution_count": 163,
   "id": "cefdc4df-4ce0-4bbb-8459-5d8140ae7a39",
   "metadata": {},
   "outputs": [
    {
     "data": {
      "text/html": [
       "<div>\n",
       "<style scoped>\n",
       "    .dataframe tbody tr th:only-of-type {\n",
       "        vertical-align: middle;\n",
       "    }\n",
       "\n",
       "    .dataframe tbody tr th {\n",
       "        vertical-align: top;\n",
       "    }\n",
       "\n",
       "    .dataframe thead th {\n",
       "        text-align: right;\n",
       "    }\n",
       "</style>\n",
       "<table border=\"1\" class=\"dataframe\">\n",
       "  <thead>\n",
       "    <tr style=\"text-align: right;\">\n",
       "      <th></th>\n",
       "      <th>ID</th>\n",
       "      <th>Marital Status</th>\n",
       "      <th>Gender</th>\n",
       "      <th>Income</th>\n",
       "      <th>Children</th>\n",
       "      <th>Education</th>\n",
       "      <th>Occupation</th>\n",
       "      <th>Home Owner</th>\n",
       "      <th>Cars</th>\n",
       "      <th>Commute Distance (Miles)</th>\n",
       "      <th>Region</th>\n",
       "      <th>Age</th>\n",
       "      <th>Purchased Bike</th>\n",
       "    </tr>\n",
       "  </thead>\n",
       "  <tbody>\n",
       "    <tr>\n",
       "      <th>42</th>\n",
       "      <td>17703</td>\n",
       "      <td>married</td>\n",
       "      <td>female</td>\n",
       "      <td>10000.0</td>\n",
       "      <td>1</td>\n",
       "      <td>NaN</td>\n",
       "      <td>Manual</td>\n",
       "      <td>YES</td>\n",
       "      <td>0</td>\n",
       "      <td>1</td>\n",
       "      <td>Europe</td>\n",
       "      <td>40</td>\n",
       "      <td>NO</td>\n",
       "    </tr>\n",
       "    <tr>\n",
       "      <th>66</th>\n",
       "      <td>29355</td>\n",
       "      <td>married</td>\n",
       "      <td>female</td>\n",
       "      <td>40000.0</td>\n",
       "      <td>0</td>\n",
       "      <td>NaN</td>\n",
       "      <td>Clerical</td>\n",
       "      <td>YES</td>\n",
       "      <td>0</td>\n",
       "      <td>1</td>\n",
       "      <td>Europe</td>\n",
       "      <td>37</td>\n",
       "      <td>YES</td>\n",
       "    </tr>\n",
       "    <tr>\n",
       "      <th>85</th>\n",
       "      <td>16514</td>\n",
       "      <td>single</td>\n",
       "      <td>male</td>\n",
       "      <td>10000.0</td>\n",
       "      <td>0</td>\n",
       "      <td>NaN</td>\n",
       "      <td>Manual</td>\n",
       "      <td>YES</td>\n",
       "      <td>1</td>\n",
       "      <td>2</td>\n",
       "      <td>Pacific</td>\n",
       "      <td>26</td>\n",
       "      <td>YES</td>\n",
       "    </tr>\n",
       "    <tr>\n",
       "      <th>95</th>\n",
       "      <td>17197</td>\n",
       "      <td>single</td>\n",
       "      <td>female</td>\n",
       "      <td>90000.0</td>\n",
       "      <td>5</td>\n",
       "      <td>NaN</td>\n",
       "      <td>Professional</td>\n",
       "      <td>YES</td>\n",
       "      <td>2</td>\n",
       "      <td>10</td>\n",
       "      <td>Europe</td>\n",
       "      <td>62</td>\n",
       "      <td>NO</td>\n",
       "    </tr>\n",
       "    <tr>\n",
       "      <th>113</th>\n",
       "      <td>29191</td>\n",
       "      <td>single</td>\n",
       "      <td>female</td>\n",
       "      <td>130000.0</td>\n",
       "      <td>1</td>\n",
       "      <td>NaN</td>\n",
       "      <td>Management</td>\n",
       "      <td>NO</td>\n",
       "      <td>1</td>\n",
       "      <td>1</td>\n",
       "      <td>Pacific</td>\n",
       "      <td>36</td>\n",
       "      <td>YES</td>\n",
       "    </tr>\n",
       "    <tr>\n",
       "      <th>122</th>\n",
       "      <td>12344</td>\n",
       "      <td>single</td>\n",
       "      <td>female</td>\n",
       "      <td>80000.0</td>\n",
       "      <td>0</td>\n",
       "      <td>NaN</td>\n",
       "      <td>Professional</td>\n",
       "      <td>NO</td>\n",
       "      <td>3</td>\n",
       "      <td>10</td>\n",
       "      <td>Pacific</td>\n",
       "      <td>31</td>\n",
       "      <td>NO</td>\n",
       "    </tr>\n",
       "    <tr>\n",
       "      <th>134</th>\n",
       "      <td>21094</td>\n",
       "      <td>single</td>\n",
       "      <td>female</td>\n",
       "      <td>30000.0</td>\n",
       "      <td>2</td>\n",
       "      <td>NaN</td>\n",
       "      <td>Clerical</td>\n",
       "      <td>YES</td>\n",
       "      <td>2</td>\n",
       "      <td>1</td>\n",
       "      <td>Europe</td>\n",
       "      <td>42</td>\n",
       "      <td>NO</td>\n",
       "    </tr>\n",
       "    <tr>\n",
       "      <th>140</th>\n",
       "      <td>22500</td>\n",
       "      <td>single</td>\n",
       "      <td>male</td>\n",
       "      <td>40000.0</td>\n",
       "      <td>0</td>\n",
       "      <td>NaN</td>\n",
       "      <td>Professional</td>\n",
       "      <td>NO</td>\n",
       "      <td>0</td>\n",
       "      <td>1</td>\n",
       "      <td>Europe</td>\n",
       "      <td>40</td>\n",
       "      <td>YES</td>\n",
       "    </tr>\n",
       "    <tr>\n",
       "      <th>157</th>\n",
       "      <td>23979</td>\n",
       "      <td>single</td>\n",
       "      <td>male</td>\n",
       "      <td>10000.0</td>\n",
       "      <td>2</td>\n",
       "      <td>NaN</td>\n",
       "      <td>Manual</td>\n",
       "      <td>NO</td>\n",
       "      <td>0</td>\n",
       "      <td>1</td>\n",
       "      <td>Europe</td>\n",
       "      <td>50</td>\n",
       "      <td>NO</td>\n",
       "    </tr>\n",
       "  </tbody>\n",
       "</table>\n",
       "</div>"
      ],
      "text/plain": [
       "        ID Marital Status  Gender    Income Children Education    Occupation  \\\n",
       "42   17703        married  female   10000.0        1       NaN        Manual   \n",
       "66   29355        married  female   40000.0        0       NaN      Clerical   \n",
       "85   16514         single    male   10000.0        0       NaN        Manual   \n",
       "95   17197         single  female   90000.0        5       NaN  Professional   \n",
       "113  29191         single  female  130000.0        1       NaN    Management   \n",
       "122  12344         single  female   80000.0        0       NaN  Professional   \n",
       "134  21094         single  female   30000.0        2       NaN      Clerical   \n",
       "140  22500         single    male   40000.0        0       NaN  Professional   \n",
       "157  23979         single    male   10000.0        2       NaN        Manual   \n",
       "\n",
       "    Home Owner  Cars Commute Distance (Miles)   Region  Age Purchased Bike  \n",
       "42         YES     0                        1   Europe   40             NO  \n",
       "66         YES     0                        1   Europe   37            YES  \n",
       "85         YES     1                        2  Pacific   26            YES  \n",
       "95         YES     2                       10   Europe   62             NO  \n",
       "113         NO     1                        1  Pacific   36            YES  \n",
       "122         NO     3                       10  Pacific   31             NO  \n",
       "134        YES     2                        1   Europe   42             NO  \n",
       "140         NO     0                        1   Europe   40            YES  \n",
       "157         NO     0                        1   Europe   50             NO  "
      ]
     },
     "execution_count": 163,
     "metadata": {},
     "output_type": "execute_result"
    }
   ],
   "source": [
    "null_education = df[df['Education'].isnull()]\n",
    "null_education"
   ]
  },
  {
   "cell_type": "code",
   "execution_count": 164,
   "id": "4557d477-942b-4be2-8bb1-d8d038caaf04",
   "metadata": {},
   "outputs": [
    {
     "data": {
      "text/html": [
       "<div>\n",
       "<style scoped>\n",
       "    .dataframe tbody tr th:only-of-type {\n",
       "        vertical-align: middle;\n",
       "    }\n",
       "\n",
       "    .dataframe tbody tr th {\n",
       "        vertical-align: top;\n",
       "    }\n",
       "\n",
       "    .dataframe thead th {\n",
       "        text-align: right;\n",
       "    }\n",
       "</style>\n",
       "<table border=\"1\" class=\"dataframe\">\n",
       "  <thead>\n",
       "    <tr style=\"text-align: right;\">\n",
       "      <th></th>\n",
       "      <th>ID</th>\n",
       "      <th>Marital Status</th>\n",
       "      <th>Gender</th>\n",
       "      <th>Income</th>\n",
       "      <th>Children</th>\n",
       "      <th>Education</th>\n",
       "      <th>Occupation</th>\n",
       "      <th>Home Owner</th>\n",
       "      <th>Cars</th>\n",
       "      <th>Commute Distance (Miles)</th>\n",
       "      <th>Region</th>\n",
       "      <th>Age</th>\n",
       "      <th>Purchased Bike</th>\n",
       "    </tr>\n",
       "  </thead>\n",
       "  <tbody>\n",
       "    <tr>\n",
       "      <th>18</th>\n",
       "      <td>27183</td>\n",
       "      <td>single</td>\n",
       "      <td>male</td>\n",
       "      <td>40000.0</td>\n",
       "      <td>2</td>\n",
       "      <td>Partial College</td>\n",
       "      <td>Clerical</td>\n",
       "      <td>YES</td>\n",
       "      <td>1</td>\n",
       "      <td>2</td>\n",
       "      <td>NaN</td>\n",
       "      <td>35</td>\n",
       "      <td>YES</td>\n",
       "    </tr>\n",
       "    <tr>\n",
       "      <th>31</th>\n",
       "      <td>22400</td>\n",
       "      <td>married</td>\n",
       "      <td>male</td>\n",
       "      <td>10000.0</td>\n",
       "      <td>0</td>\n",
       "      <td>Partial College</td>\n",
       "      <td>Manual</td>\n",
       "      <td>NO</td>\n",
       "      <td>1</td>\n",
       "      <td>1</td>\n",
       "      <td>NaN</td>\n",
       "      <td>26</td>\n",
       "      <td>YES</td>\n",
       "    </tr>\n",
       "  </tbody>\n",
       "</table>\n",
       "</div>"
      ],
      "text/plain": [
       "       ID Marital Status Gender   Income Children        Education Occupation  \\\n",
       "18  27183         single   male  40000.0        2  Partial College   Clerical   \n",
       "31  22400        married   male  10000.0        0  Partial College     Manual   \n",
       "\n",
       "   Home Owner  Cars Commute Distance (Miles) Region  Age Purchased Bike  \n",
       "18        YES     1                        2    NaN   35            YES  \n",
       "31         NO     1                        1    NaN   26            YES  "
      ]
     },
     "execution_count": 164,
     "metadata": {},
     "output_type": "execute_result"
    }
   ],
   "source": [
    "null_Region = df[df['Region'].isnull()]\n",
    "null_Region"
   ]
  },
  {
   "cell_type": "code",
   "execution_count": 165,
   "id": "ce549e81-440e-4ff3-beba-335b977f1ed8",
   "metadata": {},
   "outputs": [],
   "source": [
    "imputer = SimpleImputer(strategy='most_frequent')# work with ML that handling missing value 'sklearn.impute'\n",
    "# df['Region'] = imputer.fit_transform(df[['Region']])[:, 0]\n",
    "df.loc[:, 'Region'] = imputer.fit_transform(df[['Region']])[:, 0]\n",
    "# df['Education'] = imputer.fit_transform(df[['Education']])[:, 0]\n",
    "df.loc[:, 'Education']= imputer.fit_transform(df[['Education']])[:, 0]"
   ]
  },
  {
   "cell_type": "code",
   "execution_count": 166,
   "id": "32017d74-de89-4c11-8c68-0a9921e10e3d",
   "metadata": {},
   "outputs": [
    {
     "name": "stdout",
     "output_type": "stream",
     "text": [
      "<class 'pandas.core.frame.DataFrame'>\n",
      "Index: 1015 entries, 0 to 1025\n",
      "Data columns (total 13 columns):\n",
      " #   Column                    Non-Null Count  Dtype  \n",
      "---  ------                    --------------  -----  \n",
      " 0   ID                        1015 non-null   int64  \n",
      " 1   Marital Status            1015 non-null   object \n",
      " 2   Gender                    1015 non-null   object \n",
      " 3   Income                    1015 non-null   float64\n",
      " 4   Children                  1015 non-null   object \n",
      " 5   Education                 1015 non-null   object \n",
      " 6   Occupation                1013 non-null   object \n",
      " 7   Home Owner                1015 non-null   object \n",
      " 8   Cars                      1015 non-null   int64  \n",
      " 9   Commute Distance (Miles)  1015 non-null   object \n",
      " 10  Region                    1015 non-null   object \n",
      " 11  Age                       1015 non-null   int64  \n",
      " 12  Purchased Bike            1015 non-null   object \n",
      "dtypes: float64(1), int64(3), object(9)\n",
      "memory usage: 111.0+ KB\n"
     ]
    }
   ],
   "source": [
    "df.info()"
   ]
  },
  {
   "cell_type": "code",
   "execution_count": 225,
   "id": "1f9364e6-06f8-4330-9420-adcbfc8f4d78",
   "metadata": {},
   "outputs": [
    {
     "data": {
      "text/html": [
       "<div>\n",
       "<style scoped>\n",
       "    .dataframe tbody tr th:only-of-type {\n",
       "        vertical-align: middle;\n",
       "    }\n",
       "\n",
       "    .dataframe tbody tr th {\n",
       "        vertical-align: top;\n",
       "    }\n",
       "\n",
       "    .dataframe thead th {\n",
       "        text-align: right;\n",
       "    }\n",
       "</style>\n",
       "<table border=\"1\" class=\"dataframe\">\n",
       "  <thead>\n",
       "    <tr style=\"text-align: right;\">\n",
       "      <th></th>\n",
       "      <th>ID</th>\n",
       "      <th>Marital Status</th>\n",
       "      <th>Gender</th>\n",
       "      <th>Income</th>\n",
       "      <th>Children</th>\n",
       "      <th>Education</th>\n",
       "      <th>Occupation</th>\n",
       "      <th>Home Owner</th>\n",
       "      <th>Cars</th>\n",
       "      <th>Commute Distance (Miles)</th>\n",
       "      <th>Region</th>\n",
       "      <th>Age</th>\n",
       "      <th>Purchased Bike</th>\n",
       "    </tr>\n",
       "  </thead>\n",
       "  <tbody>\n",
       "  </tbody>\n",
       "</table>\n",
       "</div>"
      ],
      "text/plain": [
       "Empty DataFrame\n",
       "Columns: [ID, Marital Status, Gender, Income, Children, Education, Occupation, Home Owner, Cars, Commute Distance (Miles), Region, Age, Purchased Bike]\n",
       "Index: []"
      ]
     },
     "execution_count": 225,
     "metadata": {},
     "output_type": "execute_result"
    }
   ],
   "source": [
    "null_Occupation = df[df['Occupation'].isnull()]\n",
    "null_Occupation"
   ]
  },
  {
   "cell_type": "code",
   "execution_count": 226,
   "id": "0a1a4150-6879-4642-abd6-73ea22557dfd",
   "metadata": {
    "scrolled": true
   },
   "outputs": [
    {
     "ename": "KeyError",
     "evalue": "'[6] not found in axis'",
     "output_type": "error",
     "traceback": [
      "\u001b[1;31m---------------------------------------------------------------------------\u001b[0m",
      "\u001b[1;31mKeyError\u001b[0m                                  Traceback (most recent call last)",
      "Cell \u001b[1;32mIn[226], line 1\u001b[0m\n\u001b[1;32m----> 1\u001b[0m df\u001b[38;5;241m.\u001b[39mdrop(\u001b[38;5;241m6\u001b[39m,axis\u001b[38;5;241m=\u001b[39m\u001b[38;5;241m0\u001b[39m,inplace\u001b[38;5;241m=\u001b[39m\u001b[38;5;28;01mTrue\u001b[39;00m)\n\u001b[0;32m      2\u001b[0m df\u001b[38;5;241m.\u001b[39mdrop(\u001b[38;5;241m17\u001b[39m,axis\u001b[38;5;241m=\u001b[39m\u001b[38;5;241m0\u001b[39m,inplace\u001b[38;5;241m=\u001b[39m\u001b[38;5;28;01mTrue\u001b[39;00m)\n",
      "File \u001b[1;32m~\\anaconda3\\Lib\\site-packages\\pandas\\core\\frame.py:5344\u001b[0m, in \u001b[0;36mDataFrame.drop\u001b[1;34m(self, labels, axis, index, columns, level, inplace, errors)\u001b[0m\n\u001b[0;32m   5196\u001b[0m \u001b[38;5;28;01mdef\u001b[39;00m \u001b[38;5;21mdrop\u001b[39m(\n\u001b[0;32m   5197\u001b[0m     \u001b[38;5;28mself\u001b[39m,\n\u001b[0;32m   5198\u001b[0m     labels: IndexLabel \u001b[38;5;241m|\u001b[39m \u001b[38;5;28;01mNone\u001b[39;00m \u001b[38;5;241m=\u001b[39m \u001b[38;5;28;01mNone\u001b[39;00m,\n\u001b[1;32m   (...)\u001b[0m\n\u001b[0;32m   5205\u001b[0m     errors: IgnoreRaise \u001b[38;5;241m=\u001b[39m \u001b[38;5;124m\"\u001b[39m\u001b[38;5;124mraise\u001b[39m\u001b[38;5;124m\"\u001b[39m,\n\u001b[0;32m   5206\u001b[0m ) \u001b[38;5;241m-\u001b[39m\u001b[38;5;241m>\u001b[39m DataFrame \u001b[38;5;241m|\u001b[39m \u001b[38;5;28;01mNone\u001b[39;00m:\n\u001b[0;32m   5207\u001b[0m \u001b[38;5;250m    \u001b[39m\u001b[38;5;124;03m\"\"\"\u001b[39;00m\n\u001b[0;32m   5208\u001b[0m \u001b[38;5;124;03m    Drop specified labels from rows or columns.\u001b[39;00m\n\u001b[0;32m   5209\u001b[0m \n\u001b[1;32m   (...)\u001b[0m\n\u001b[0;32m   5342\u001b[0m \u001b[38;5;124;03m            weight  1.0     0.8\u001b[39;00m\n\u001b[0;32m   5343\u001b[0m \u001b[38;5;124;03m    \"\"\"\u001b[39;00m\n\u001b[1;32m-> 5344\u001b[0m     \u001b[38;5;28;01mreturn\u001b[39;00m \u001b[38;5;28msuper\u001b[39m()\u001b[38;5;241m.\u001b[39mdrop(\n\u001b[0;32m   5345\u001b[0m         labels\u001b[38;5;241m=\u001b[39mlabels,\n\u001b[0;32m   5346\u001b[0m         axis\u001b[38;5;241m=\u001b[39maxis,\n\u001b[0;32m   5347\u001b[0m         index\u001b[38;5;241m=\u001b[39mindex,\n\u001b[0;32m   5348\u001b[0m         columns\u001b[38;5;241m=\u001b[39mcolumns,\n\u001b[0;32m   5349\u001b[0m         level\u001b[38;5;241m=\u001b[39mlevel,\n\u001b[0;32m   5350\u001b[0m         inplace\u001b[38;5;241m=\u001b[39minplace,\n\u001b[0;32m   5351\u001b[0m         errors\u001b[38;5;241m=\u001b[39merrors,\n\u001b[0;32m   5352\u001b[0m     )\n",
      "File \u001b[1;32m~\\anaconda3\\Lib\\site-packages\\pandas\\core\\generic.py:4711\u001b[0m, in \u001b[0;36mNDFrame.drop\u001b[1;34m(self, labels, axis, index, columns, level, inplace, errors)\u001b[0m\n\u001b[0;32m   4709\u001b[0m \u001b[38;5;28;01mfor\u001b[39;00m axis, labels \u001b[38;5;129;01min\u001b[39;00m axes\u001b[38;5;241m.\u001b[39mitems():\n\u001b[0;32m   4710\u001b[0m     \u001b[38;5;28;01mif\u001b[39;00m labels \u001b[38;5;129;01mis\u001b[39;00m \u001b[38;5;129;01mnot\u001b[39;00m \u001b[38;5;28;01mNone\u001b[39;00m:\n\u001b[1;32m-> 4711\u001b[0m         obj \u001b[38;5;241m=\u001b[39m obj\u001b[38;5;241m.\u001b[39m_drop_axis(labels, axis, level\u001b[38;5;241m=\u001b[39mlevel, errors\u001b[38;5;241m=\u001b[39merrors)\n\u001b[0;32m   4713\u001b[0m \u001b[38;5;28;01mif\u001b[39;00m inplace:\n\u001b[0;32m   4714\u001b[0m     \u001b[38;5;28mself\u001b[39m\u001b[38;5;241m.\u001b[39m_update_inplace(obj)\n",
      "File \u001b[1;32m~\\anaconda3\\Lib\\site-packages\\pandas\\core\\generic.py:4753\u001b[0m, in \u001b[0;36mNDFrame._drop_axis\u001b[1;34m(self, labels, axis, level, errors, only_slice)\u001b[0m\n\u001b[0;32m   4751\u001b[0m         new_axis \u001b[38;5;241m=\u001b[39m axis\u001b[38;5;241m.\u001b[39mdrop(labels, level\u001b[38;5;241m=\u001b[39mlevel, errors\u001b[38;5;241m=\u001b[39merrors)\n\u001b[0;32m   4752\u001b[0m     \u001b[38;5;28;01melse\u001b[39;00m:\n\u001b[1;32m-> 4753\u001b[0m         new_axis \u001b[38;5;241m=\u001b[39m axis\u001b[38;5;241m.\u001b[39mdrop(labels, errors\u001b[38;5;241m=\u001b[39merrors)\n\u001b[0;32m   4754\u001b[0m     indexer \u001b[38;5;241m=\u001b[39m axis\u001b[38;5;241m.\u001b[39mget_indexer(new_axis)\n\u001b[0;32m   4756\u001b[0m \u001b[38;5;66;03m# Case for non-unique axis\u001b[39;00m\n\u001b[0;32m   4757\u001b[0m \u001b[38;5;28;01melse\u001b[39;00m:\n",
      "File \u001b[1;32m~\\anaconda3\\Lib\\site-packages\\pandas\\core\\indexes\\base.py:7000\u001b[0m, in \u001b[0;36mIndex.drop\u001b[1;34m(self, labels, errors)\u001b[0m\n\u001b[0;32m   6998\u001b[0m \u001b[38;5;28;01mif\u001b[39;00m mask\u001b[38;5;241m.\u001b[39many():\n\u001b[0;32m   6999\u001b[0m     \u001b[38;5;28;01mif\u001b[39;00m errors \u001b[38;5;241m!=\u001b[39m \u001b[38;5;124m\"\u001b[39m\u001b[38;5;124mignore\u001b[39m\u001b[38;5;124m\"\u001b[39m:\n\u001b[1;32m-> 7000\u001b[0m         \u001b[38;5;28;01mraise\u001b[39;00m \u001b[38;5;167;01mKeyError\u001b[39;00m(\u001b[38;5;124mf\u001b[39m\u001b[38;5;124m\"\u001b[39m\u001b[38;5;132;01m{\u001b[39;00mlabels[mask]\u001b[38;5;241m.\u001b[39mtolist()\u001b[38;5;132;01m}\u001b[39;00m\u001b[38;5;124m not found in axis\u001b[39m\u001b[38;5;124m\"\u001b[39m)\n\u001b[0;32m   7001\u001b[0m     indexer \u001b[38;5;241m=\u001b[39m indexer[\u001b[38;5;241m~\u001b[39mmask]\n\u001b[0;32m   7002\u001b[0m \u001b[38;5;28;01mreturn\u001b[39;00m \u001b[38;5;28mself\u001b[39m\u001b[38;5;241m.\u001b[39mdelete(indexer)\n",
      "\u001b[1;31mKeyError\u001b[0m: '[6] not found in axis'"
     ]
    }
   ],
   "source": [
    "df.drop(6,axis=0,inplace=True)\n",
    "df.drop(17,axis=0,inplace=True)"
   ]
  },
  {
   "cell_type": "code",
   "execution_count": 227,
   "id": "8252901f-f378-4973-b31b-11dc18420be2",
   "metadata": {},
   "outputs": [
    {
     "data": {
      "text/html": [
       "<div>\n",
       "<style scoped>\n",
       "    .dataframe tbody tr th:only-of-type {\n",
       "        vertical-align: middle;\n",
       "    }\n",
       "\n",
       "    .dataframe tbody tr th {\n",
       "        vertical-align: top;\n",
       "    }\n",
       "\n",
       "    .dataframe thead th {\n",
       "        text-align: right;\n",
       "    }\n",
       "</style>\n",
       "<table border=\"1\" class=\"dataframe\">\n",
       "  <thead>\n",
       "    <tr style=\"text-align: right;\">\n",
       "      <th></th>\n",
       "      <th>ID</th>\n",
       "      <th>Marital Status</th>\n",
       "      <th>Gender</th>\n",
       "      <th>Income</th>\n",
       "      <th>Children</th>\n",
       "      <th>Education</th>\n",
       "      <th>Occupation</th>\n",
       "      <th>Home Owner</th>\n",
       "      <th>Cars</th>\n",
       "      <th>Commute Distance (Miles)</th>\n",
       "      <th>Region</th>\n",
       "      <th>Age</th>\n",
       "      <th>Purchased Bike</th>\n",
       "    </tr>\n",
       "  </thead>\n",
       "  <tbody>\n",
       "  </tbody>\n",
       "</table>\n",
       "</div>"
      ],
      "text/plain": [
       "Empty DataFrame\n",
       "Columns: [ID, Marital Status, Gender, Income, Children, Education, Occupation, Home Owner, Cars, Commute Distance (Miles), Region, Age, Purchased Bike]\n",
       "Index: []"
      ]
     },
     "execution_count": 227,
     "metadata": {},
     "output_type": "execute_result"
    }
   ],
   "source": [
    "nullOccupation = df[df['Occupation'].isnull()]\n",
    "nullOccupation"
   ]
  },
  {
   "cell_type": "code",
   "execution_count": 170,
   "id": "2cc210a8-a02e-4fe3-8ae1-8b5a0b6255a9",
   "metadata": {},
   "outputs": [
    {
     "data": {
      "text/html": [
       "<div>\n",
       "<style scoped>\n",
       "    .dataframe tbody tr th:only-of-type {\n",
       "        vertical-align: middle;\n",
       "    }\n",
       "\n",
       "    .dataframe tbody tr th {\n",
       "        vertical-align: top;\n",
       "    }\n",
       "\n",
       "    .dataframe thead th {\n",
       "        text-align: right;\n",
       "    }\n",
       "</style>\n",
       "<table border=\"1\" class=\"dataframe\">\n",
       "  <thead>\n",
       "    <tr style=\"text-align: right;\">\n",
       "      <th></th>\n",
       "      <th>ID</th>\n",
       "      <th>Marital Status</th>\n",
       "      <th>Gender</th>\n",
       "      <th>Income</th>\n",
       "      <th>Children</th>\n",
       "      <th>Education</th>\n",
       "      <th>Occupation</th>\n",
       "      <th>Home Owner</th>\n",
       "      <th>Cars</th>\n",
       "      <th>Commute Distance (Miles)</th>\n",
       "      <th>Region</th>\n",
       "      <th>Age</th>\n",
       "      <th>Purchased Bike</th>\n",
       "    </tr>\n",
       "  </thead>\n",
       "  <tbody>\n",
       "    <tr>\n",
       "      <th>0</th>\n",
       "      <td>12496</td>\n",
       "      <td>married</td>\n",
       "      <td>female</td>\n",
       "      <td>40000.0</td>\n",
       "      <td>1</td>\n",
       "      <td>Bachelors</td>\n",
       "      <td>Skilled Manual</td>\n",
       "      <td>YES</td>\n",
       "      <td>0</td>\n",
       "      <td>1</td>\n",
       "      <td>Europe</td>\n",
       "      <td>42</td>\n",
       "      <td>NO</td>\n",
       "    </tr>\n",
       "    <tr>\n",
       "      <th>1</th>\n",
       "      <td>24107</td>\n",
       "      <td>married</td>\n",
       "      <td>male</td>\n",
       "      <td>30000.0</td>\n",
       "      <td>3</td>\n",
       "      <td>Partial College</td>\n",
       "      <td>Clerical</td>\n",
       "      <td>YES</td>\n",
       "      <td>1</td>\n",
       "      <td>1</td>\n",
       "      <td>Europe</td>\n",
       "      <td>43</td>\n",
       "      <td>NO</td>\n",
       "    </tr>\n",
       "    <tr>\n",
       "      <th>2</th>\n",
       "      <td>14177</td>\n",
       "      <td>married</td>\n",
       "      <td>male</td>\n",
       "      <td>80000.0</td>\n",
       "      <td>5</td>\n",
       "      <td>Partial College</td>\n",
       "      <td>Professional</td>\n",
       "      <td>NO</td>\n",
       "      <td>2</td>\n",
       "      <td>5</td>\n",
       "      <td>Europe</td>\n",
       "      <td>60</td>\n",
       "      <td>NO</td>\n",
       "    </tr>\n",
       "    <tr>\n",
       "      <th>3</th>\n",
       "      <td>24381</td>\n",
       "      <td>single</td>\n",
       "      <td>male</td>\n",
       "      <td>70000.0</td>\n",
       "      <td>0</td>\n",
       "      <td>Bachelors</td>\n",
       "      <td>Professional</td>\n",
       "      <td>YES</td>\n",
       "      <td>1</td>\n",
       "      <td>10</td>\n",
       "      <td>Pacific</td>\n",
       "      <td>41</td>\n",
       "      <td>YES</td>\n",
       "    </tr>\n",
       "    <tr>\n",
       "      <th>4</th>\n",
       "      <td>25597</td>\n",
       "      <td>single</td>\n",
       "      <td>male</td>\n",
       "      <td>30000.0</td>\n",
       "      <td>0</td>\n",
       "      <td>Bachelors</td>\n",
       "      <td>Clerical</td>\n",
       "      <td>NO</td>\n",
       "      <td>0</td>\n",
       "      <td>1</td>\n",
       "      <td>Europe</td>\n",
       "      <td>36</td>\n",
       "      <td>YES</td>\n",
       "    </tr>\n",
       "    <tr>\n",
       "      <th>...</th>\n",
       "      <td>...</td>\n",
       "      <td>...</td>\n",
       "      <td>...</td>\n",
       "      <td>...</td>\n",
       "      <td>...</td>\n",
       "      <td>...</td>\n",
       "      <td>...</td>\n",
       "      <td>...</td>\n",
       "      <td>...</td>\n",
       "      <td>...</td>\n",
       "      <td>...</td>\n",
       "      <td>...</td>\n",
       "      <td>...</td>\n",
       "    </tr>\n",
       "    <tr>\n",
       "      <th>1019</th>\n",
       "      <td>18283</td>\n",
       "      <td>single</td>\n",
       "      <td>female</td>\n",
       "      <td>100000.0</td>\n",
       "      <td>0</td>\n",
       "      <td>Bachelors</td>\n",
       "      <td>Professional</td>\n",
       "      <td>NO</td>\n",
       "      <td>1</td>\n",
       "      <td>10</td>\n",
       "      <td>Pacific</td>\n",
       "      <td>40</td>\n",
       "      <td>NO</td>\n",
       "    </tr>\n",
       "    <tr>\n",
       "      <th>1022</th>\n",
       "      <td>19273</td>\n",
       "      <td>married</td>\n",
       "      <td>female</td>\n",
       "      <td>20000.0</td>\n",
       "      <td>2</td>\n",
       "      <td>Partial College</td>\n",
       "      <td>Manual</td>\n",
       "      <td>YES</td>\n",
       "      <td>0</td>\n",
       "      <td>1</td>\n",
       "      <td>Europe</td>\n",
       "      <td>63</td>\n",
       "      <td>NO</td>\n",
       "    </tr>\n",
       "    <tr>\n",
       "      <th>1023</th>\n",
       "      <td>22400</td>\n",
       "      <td>married</td>\n",
       "      <td>male</td>\n",
       "      <td>10000.0</td>\n",
       "      <td>0</td>\n",
       "      <td>Partial College</td>\n",
       "      <td>Manual</td>\n",
       "      <td>NO</td>\n",
       "      <td>1</td>\n",
       "      <td>1</td>\n",
       "      <td>Pacific</td>\n",
       "      <td>26</td>\n",
       "      <td>YES</td>\n",
       "    </tr>\n",
       "    <tr>\n",
       "      <th>1024</th>\n",
       "      <td>20942</td>\n",
       "      <td>single</td>\n",
       "      <td>female</td>\n",
       "      <td>20000.0</td>\n",
       "      <td>0</td>\n",
       "      <td>High School</td>\n",
       "      <td>Manual</td>\n",
       "      <td>NO</td>\n",
       "      <td>1</td>\n",
       "      <td>10</td>\n",
       "      <td>Europe</td>\n",
       "      <td>31</td>\n",
       "      <td>NO</td>\n",
       "    </tr>\n",
       "    <tr>\n",
       "      <th>1025</th>\n",
       "      <td>18484</td>\n",
       "      <td>single</td>\n",
       "      <td>male</td>\n",
       "      <td>80000.0</td>\n",
       "      <td>2</td>\n",
       "      <td>High School</td>\n",
       "      <td>Skilled Manual</td>\n",
       "      <td>NO</td>\n",
       "      <td>2</td>\n",
       "      <td>2</td>\n",
       "      <td>Pacific</td>\n",
       "      <td>50</td>\n",
       "      <td>YES</td>\n",
       "    </tr>\n",
       "  </tbody>\n",
       "</table>\n",
       "<p>1013 rows × 13 columns</p>\n",
       "</div>"
      ],
      "text/plain": [
       "         ID Marital Status  Gender    Income Children        Education  \\\n",
       "0     12496        married  female   40000.0        1        Bachelors   \n",
       "1     24107        married    male   30000.0        3  Partial College   \n",
       "2     14177        married    male   80000.0        5  Partial College   \n",
       "3     24381         single    male   70000.0        0        Bachelors   \n",
       "4     25597         single    male   30000.0        0        Bachelors   \n",
       "...     ...            ...     ...       ...      ...              ...   \n",
       "1019  18283         single  female  100000.0        0        Bachelors   \n",
       "1022  19273        married  female   20000.0        2  Partial College   \n",
       "1023  22400        married    male   10000.0        0  Partial College   \n",
       "1024  20942         single  female   20000.0        0      High School   \n",
       "1025  18484         single    male   80000.0        2      High School   \n",
       "\n",
       "          Occupation Home Owner  Cars Commute Distance (Miles)   Region  Age  \\\n",
       "0     Skilled Manual        YES     0                        1   Europe   42   \n",
       "1           Clerical        YES     1                        1   Europe   43   \n",
       "2       Professional         NO     2                        5   Europe   60   \n",
       "3       Professional        YES     1                       10  Pacific   41   \n",
       "4           Clerical         NO     0                        1   Europe   36   \n",
       "...              ...        ...   ...                      ...      ...  ...   \n",
       "1019    Professional         NO     1                       10  Pacific   40   \n",
       "1022          Manual        YES     0                        1   Europe   63   \n",
       "1023          Manual         NO     1                        1  Pacific   26   \n",
       "1024          Manual         NO     1                       10   Europe   31   \n",
       "1025  Skilled Manual         NO     2                        2  Pacific   50   \n",
       "\n",
       "     Purchased Bike  \n",
       "0                NO  \n",
       "1                NO  \n",
       "2                NO  \n",
       "3               YES  \n",
       "4               YES  \n",
       "...             ...  \n",
       "1019             NO  \n",
       "1022             NO  \n",
       "1023            YES  \n",
       "1024             NO  \n",
       "1025            YES  \n",
       "\n",
       "[1013 rows x 13 columns]"
      ]
     },
     "execution_count": 170,
     "metadata": {},
     "output_type": "execute_result"
    }
   ],
   "source": [
    "df"
   ]
  },
  {
   "cell_type": "code",
   "execution_count": 171,
   "id": "c2b11581-2a90-43b1-9f03-5db37b0c39df",
   "metadata": {},
   "outputs": [
    {
     "name": "stdout",
     "output_type": "stream",
     "text": [
      "<class 'pandas.core.frame.DataFrame'>\n",
      "Index: 1013 entries, 0 to 1025\n",
      "Data columns (total 13 columns):\n",
      " #   Column                    Non-Null Count  Dtype  \n",
      "---  ------                    --------------  -----  \n",
      " 0   ID                        1013 non-null   int64  \n",
      " 1   Marital Status            1013 non-null   object \n",
      " 2   Gender                    1013 non-null   object \n",
      " 3   Income                    1013 non-null   float64\n",
      " 4   Children                  1013 non-null   object \n",
      " 5   Education                 1013 non-null   object \n",
      " 6   Occupation                1013 non-null   object \n",
      " 7   Home Owner                1013 non-null   object \n",
      " 8   Cars                      1013 non-null   int64  \n",
      " 9   Commute Distance (Miles)  1013 non-null   object \n",
      " 10  Region                    1013 non-null   object \n",
      " 11  Age                       1013 non-null   int64  \n",
      " 12  Purchased Bike            1013 non-null   object \n",
      "dtypes: float64(1), int64(3), object(9)\n",
      "memory usage: 110.8+ KB\n"
     ]
    }
   ],
   "source": [
    "df.info()"
   ]
  },
  {
   "cell_type": "code",
   "execution_count": 172,
   "id": "a0601420-6711-4656-972d-cd518be88ab9",
   "metadata": {},
   "outputs": [
    {
     "data": {
      "text/html": [
       "<div>\n",
       "<style scoped>\n",
       "    .dataframe tbody tr th:only-of-type {\n",
       "        vertical-align: middle;\n",
       "    }\n",
       "\n",
       "    .dataframe tbody tr th {\n",
       "        vertical-align: top;\n",
       "    }\n",
       "\n",
       "    .dataframe thead th {\n",
       "        text-align: right;\n",
       "    }\n",
       "</style>\n",
       "<table border=\"1\" class=\"dataframe\">\n",
       "  <thead>\n",
       "    <tr style=\"text-align: right;\">\n",
       "      <th></th>\n",
       "      <th>ID</th>\n",
       "      <th>Marital Status</th>\n",
       "      <th>Gender</th>\n",
       "      <th>Income</th>\n",
       "      <th>Children</th>\n",
       "      <th>Education</th>\n",
       "      <th>Occupation</th>\n",
       "      <th>Home Owner</th>\n",
       "      <th>Cars</th>\n",
       "      <th>Commute Distance (Miles)</th>\n",
       "      <th>Region</th>\n",
       "      <th>Age</th>\n",
       "      <th>Purchased Bike</th>\n",
       "    </tr>\n",
       "  </thead>\n",
       "  <tbody>\n",
       "    <tr>\n",
       "      <th>12</th>\n",
       "      <td>11434</td>\n",
       "      <td>married</td>\n",
       "      <td>male</td>\n",
       "      <td>170000.0</td>\n",
       "      <td>5</td>\n",
       "      <td>Partial College</td>\n",
       "      <td>Professional</td>\n",
       "      <td>YES</td>\n",
       "      <td>0</td>\n",
       "      <td>1</td>\n",
       "      <td>Europe</td>\n",
       "      <td>55</td>\n",
       "      <td>NO</td>\n",
       "    </tr>\n",
       "    <tr>\n",
       "      <th>43</th>\n",
       "      <td>17185</td>\n",
       "      <td>married</td>\n",
       "      <td>female</td>\n",
       "      <td>170000.0</td>\n",
       "      <td>4</td>\n",
       "      <td>Partial College</td>\n",
       "      <td>Professional</td>\n",
       "      <td>NO</td>\n",
       "      <td>3</td>\n",
       "      <td>10</td>\n",
       "      <td>Europe</td>\n",
       "      <td>48</td>\n",
       "      <td>YES</td>\n",
       "    </tr>\n",
       "    <tr>\n",
       "      <th>121</th>\n",
       "      <td>15922</td>\n",
       "      <td>married</td>\n",
       "      <td>male</td>\n",
       "      <td>150000.0</td>\n",
       "      <td>2</td>\n",
       "      <td>High School</td>\n",
       "      <td>Professional</td>\n",
       "      <td>YES</td>\n",
       "      <td>4</td>\n",
       "      <td>1</td>\n",
       "      <td>Europe</td>\n",
       "      <td>48</td>\n",
       "      <td>NO</td>\n",
       "    </tr>\n",
       "    <tr>\n",
       "      <th>178</th>\n",
       "      <td>14191</td>\n",
       "      <td>married</td>\n",
       "      <td>male</td>\n",
       "      <td>160000.0</td>\n",
       "      <td>4</td>\n",
       "      <td>Partial College</td>\n",
       "      <td>Professional</td>\n",
       "      <td>NO</td>\n",
       "      <td>2</td>\n",
       "      <td>10</td>\n",
       "      <td>Europe</td>\n",
       "      <td>55</td>\n",
       "      <td>YES</td>\n",
       "    </tr>\n",
       "    <tr>\n",
       "      <th>259</th>\n",
       "      <td>12705</td>\n",
       "      <td>married</td>\n",
       "      <td>male</td>\n",
       "      <td>150000.0</td>\n",
       "      <td>0</td>\n",
       "      <td>Bachelors</td>\n",
       "      <td>Management</td>\n",
       "      <td>YES</td>\n",
       "      <td>4</td>\n",
       "      <td>1</td>\n",
       "      <td>Pacific</td>\n",
       "      <td>37</td>\n",
       "      <td>YES</td>\n",
       "    </tr>\n",
       "    <tr>\n",
       "      <th>321</th>\n",
       "      <td>16675</td>\n",
       "      <td>single</td>\n",
       "      <td>female</td>\n",
       "      <td>160000.0</td>\n",
       "      <td>0</td>\n",
       "      <td>Graduate Degree</td>\n",
       "      <td>Management</td>\n",
       "      <td>NO</td>\n",
       "      <td>3</td>\n",
       "      <td>1</td>\n",
       "      <td>Pacific</td>\n",
       "      <td>47</td>\n",
       "      <td>YES</td>\n",
       "    </tr>\n",
       "    <tr>\n",
       "      <th>356</th>\n",
       "      <td>23608</td>\n",
       "      <td>married</td>\n",
       "      <td>female</td>\n",
       "      <td>150000.0</td>\n",
       "      <td>3</td>\n",
       "      <td>High School</td>\n",
       "      <td>Professional</td>\n",
       "      <td>YES</td>\n",
       "      <td>3</td>\n",
       "      <td>1</td>\n",
       "      <td>Europe</td>\n",
       "      <td>51</td>\n",
       "      <td>YES</td>\n",
       "    </tr>\n",
       "    <tr>\n",
       "      <th>829</th>\n",
       "      <td>16009</td>\n",
       "      <td>single</td>\n",
       "      <td>male</td>\n",
       "      <td>170000.0</td>\n",
       "      <td>1</td>\n",
       "      <td>Graduate Degree</td>\n",
       "      <td>Management</td>\n",
       "      <td>NO</td>\n",
       "      <td>4</td>\n",
       "      <td>1</td>\n",
       "      <td>North America</td>\n",
       "      <td>66</td>\n",
       "      <td>NO</td>\n",
       "    </tr>\n",
       "    <tr>\n",
       "      <th>993</th>\n",
       "      <td>11292</td>\n",
       "      <td>single</td>\n",
       "      <td>male</td>\n",
       "      <td>150000.0</td>\n",
       "      <td>1</td>\n",
       "      <td>Partial College</td>\n",
       "      <td>Professional</td>\n",
       "      <td>NO</td>\n",
       "      <td>3</td>\n",
       "      <td>1</td>\n",
       "      <td>North America</td>\n",
       "      <td>44</td>\n",
       "      <td>YES</td>\n",
       "    </tr>\n",
       "  </tbody>\n",
       "</table>\n",
       "</div>"
      ],
      "text/plain": [
       "        ID Marital Status  Gender    Income Children        Education  \\\n",
       "12   11434        married    male  170000.0        5  Partial College   \n",
       "43   17185        married  female  170000.0        4  Partial College   \n",
       "121  15922        married    male  150000.0        2      High School   \n",
       "178  14191        married    male  160000.0        4  Partial College   \n",
       "259  12705        married    male  150000.0        0        Bachelors   \n",
       "321  16675         single  female  160000.0        0  Graduate Degree   \n",
       "356  23608        married  female  150000.0        3      High School   \n",
       "829  16009         single    male  170000.0        1  Graduate Degree   \n",
       "993  11292         single    male  150000.0        1  Partial College   \n",
       "\n",
       "       Occupation Home Owner  Cars Commute Distance (Miles)         Region  \\\n",
       "12   Professional        YES     0                        1         Europe   \n",
       "43   Professional         NO     3                       10         Europe   \n",
       "121  Professional        YES     4                        1         Europe   \n",
       "178  Professional         NO     2                       10         Europe   \n",
       "259    Management        YES     4                        1        Pacific   \n",
       "321    Management         NO     3                        1        Pacific   \n",
       "356  Professional        YES     3                        1         Europe   \n",
       "829    Management         NO     4                        1  North America   \n",
       "993  Professional         NO     3                        1  North America   \n",
       "\n",
       "     Age Purchased Bike  \n",
       "12    55             NO  \n",
       "43    48            YES  \n",
       "121   48             NO  \n",
       "178   55            YES  \n",
       "259   37            YES  \n",
       "321   47            YES  \n",
       "356   51            YES  \n",
       "829   66             NO  \n",
       "993   44            YES  "
      ]
     },
     "execution_count": 172,
     "metadata": {},
     "output_type": "execute_result"
    }
   ],
   "source": [
    "\n",
    "q1 = df['Income'].quantile(0.25)\n",
    "q3 = df['Income'].quantile(0.75)\n",
    "iqr = q3 - q1\n",
    "\n",
    "lower_bound = q1 - 1.5 * iqr\n",
    "upper_bound = q3 + 1.5 * iqr\n",
    "outliersAfter = df[(df['Income'] < lower_bound) | (df['Income'] > upper_bound)]\n",
    "outliersAfter"
   ]
  },
  {
   "cell_type": "code",
   "execution_count": 173,
   "id": "5108788f-99b2-40eb-b97e-ad706ae65252",
   "metadata": {},
   "outputs": [
    {
     "data": {
      "text/html": [
       "<div>\n",
       "<style scoped>\n",
       "    .dataframe tbody tr th:only-of-type {\n",
       "        vertical-align: middle;\n",
       "    }\n",
       "\n",
       "    .dataframe tbody tr th {\n",
       "        vertical-align: top;\n",
       "    }\n",
       "\n",
       "    .dataframe thead th {\n",
       "        text-align: right;\n",
       "    }\n",
       "</style>\n",
       "<table border=\"1\" class=\"dataframe\">\n",
       "  <thead>\n",
       "    <tr style=\"text-align: right;\">\n",
       "      <th></th>\n",
       "      <th>ID</th>\n",
       "      <th>Income</th>\n",
       "      <th>Cars</th>\n",
       "      <th>Age</th>\n",
       "    </tr>\n",
       "  </thead>\n",
       "  <tbody>\n",
       "    <tr>\n",
       "      <th>count</th>\n",
       "      <td>1013.000000</td>\n",
       "      <td>1013.000000</td>\n",
       "      <td>1013.000000</td>\n",
       "      <td>1013.000000</td>\n",
       "    </tr>\n",
       "    <tr>\n",
       "      <th>mean</th>\n",
       "      <td>19980.264561</td>\n",
       "      <td>56100.691017</td>\n",
       "      <td>1.442251</td>\n",
       "      <td>44.157947</td>\n",
       "    </tr>\n",
       "    <tr>\n",
       "      <th>std</th>\n",
       "      <td>5326.772535</td>\n",
       "      <td>30942.023587</td>\n",
       "      <td>1.122828</td>\n",
       "      <td>11.360023</td>\n",
       "    </tr>\n",
       "    <tr>\n",
       "      <th>min</th>\n",
       "      <td>11000.000000</td>\n",
       "      <td>10000.000000</td>\n",
       "      <td>0.000000</td>\n",
       "      <td>25.000000</td>\n",
       "    </tr>\n",
       "    <tr>\n",
       "      <th>25%</th>\n",
       "      <td>15313.000000</td>\n",
       "      <td>30000.000000</td>\n",
       "      <td>1.000000</td>\n",
       "      <td>35.000000</td>\n",
       "    </tr>\n",
       "    <tr>\n",
       "      <th>50%</th>\n",
       "      <td>19758.000000</td>\n",
       "      <td>60000.000000</td>\n",
       "      <td>1.000000</td>\n",
       "      <td>43.000000</td>\n",
       "    </tr>\n",
       "    <tr>\n",
       "      <th>75%</th>\n",
       "      <td>24433.000000</td>\n",
       "      <td>70000.000000</td>\n",
       "      <td>2.000000</td>\n",
       "      <td>52.000000</td>\n",
       "    </tr>\n",
       "    <tr>\n",
       "      <th>max</th>\n",
       "      <td>29447.000000</td>\n",
       "      <td>170000.000000</td>\n",
       "      <td>4.000000</td>\n",
       "      <td>89.000000</td>\n",
       "    </tr>\n",
       "  </tbody>\n",
       "</table>\n",
       "</div>"
      ],
      "text/plain": [
       "                 ID         Income         Cars          Age\n",
       "count   1013.000000    1013.000000  1013.000000  1013.000000\n",
       "mean   19980.264561   56100.691017     1.442251    44.157947\n",
       "std     5326.772535   30942.023587     1.122828    11.360023\n",
       "min    11000.000000   10000.000000     0.000000    25.000000\n",
       "25%    15313.000000   30000.000000     1.000000    35.000000\n",
       "50%    19758.000000   60000.000000     1.000000    43.000000\n",
       "75%    24433.000000   70000.000000     2.000000    52.000000\n",
       "max    29447.000000  170000.000000     4.000000    89.000000"
      ]
     },
     "execution_count": 173,
     "metadata": {},
     "output_type": "execute_result"
    }
   ],
   "source": [
    "df.describe()"
   ]
  },
  {
   "cell_type": "code",
   "execution_count": 174,
   "id": "b65dd8a6-b151-450b-955c-018c81e467ba",
   "metadata": {},
   "outputs": [],
   "source": [
    "df = df.drop(outliersAfter.index)# remove outler from income "
   ]
  },
  {
   "cell_type": "code",
   "execution_count": 175,
   "id": "a7c56d3b-34d4-443d-aa5f-db3fa8613a39",
   "metadata": {},
   "outputs": [
    {
     "data": {
      "text/html": [
       "<div>\n",
       "<style scoped>\n",
       "    .dataframe tbody tr th:only-of-type {\n",
       "        vertical-align: middle;\n",
       "    }\n",
       "\n",
       "    .dataframe tbody tr th {\n",
       "        vertical-align: top;\n",
       "    }\n",
       "\n",
       "    .dataframe thead th {\n",
       "        text-align: right;\n",
       "    }\n",
       "</style>\n",
       "<table border=\"1\" class=\"dataframe\">\n",
       "  <thead>\n",
       "    <tr style=\"text-align: right;\">\n",
       "      <th></th>\n",
       "      <th>ID</th>\n",
       "      <th>Income</th>\n",
       "      <th>Cars</th>\n",
       "      <th>Age</th>\n",
       "    </tr>\n",
       "  </thead>\n",
       "  <tbody>\n",
       "    <tr>\n",
       "      <th>count</th>\n",
       "      <td>1004.000000</td>\n",
       "      <td>1004.000000</td>\n",
       "      <td>1004.000000</td>\n",
       "      <td>1004.000000</td>\n",
       "    </tr>\n",
       "    <tr>\n",
       "      <th>mean</th>\n",
       "      <td>20020.903386</td>\n",
       "      <td>55179.282869</td>\n",
       "      <td>1.429283</td>\n",
       "      <td>44.104582</td>\n",
       "    </tr>\n",
       "    <tr>\n",
       "      <th>std</th>\n",
       "      <td>5322.522430</td>\n",
       "      <td>29489.977159</td>\n",
       "      <td>1.113669</td>\n",
       "      <td>11.373651</td>\n",
       "    </tr>\n",
       "    <tr>\n",
       "      <th>min</th>\n",
       "      <td>11000.000000</td>\n",
       "      <td>10000.000000</td>\n",
       "      <td>0.000000</td>\n",
       "      <td>25.000000</td>\n",
       "    </tr>\n",
       "    <tr>\n",
       "      <th>25%</th>\n",
       "      <td>15358.750000</td>\n",
       "      <td>30000.000000</td>\n",
       "      <td>1.000000</td>\n",
       "      <td>35.000000</td>\n",
       "    </tr>\n",
       "    <tr>\n",
       "      <th>50%</th>\n",
       "      <td>19870.000000</td>\n",
       "      <td>60000.000000</td>\n",
       "      <td>1.000000</td>\n",
       "      <td>43.000000</td>\n",
       "    </tr>\n",
       "    <tr>\n",
       "      <th>75%</th>\n",
       "      <td>24487.750000</td>\n",
       "      <td>70000.000000</td>\n",
       "      <td>2.000000</td>\n",
       "      <td>52.000000</td>\n",
       "    </tr>\n",
       "    <tr>\n",
       "      <th>max</th>\n",
       "      <td>29447.000000</td>\n",
       "      <td>130000.000000</td>\n",
       "      <td>4.000000</td>\n",
       "      <td>89.000000</td>\n",
       "    </tr>\n",
       "  </tbody>\n",
       "</table>\n",
       "</div>"
      ],
      "text/plain": [
       "                 ID         Income         Cars          Age\n",
       "count   1004.000000    1004.000000  1004.000000  1004.000000\n",
       "mean   20020.903386   55179.282869     1.429283    44.104582\n",
       "std     5322.522430   29489.977159     1.113669    11.373651\n",
       "min    11000.000000   10000.000000     0.000000    25.000000\n",
       "25%    15358.750000   30000.000000     1.000000    35.000000\n",
       "50%    19870.000000   60000.000000     1.000000    43.000000\n",
       "75%    24487.750000   70000.000000     2.000000    52.000000\n",
       "max    29447.000000  130000.000000     4.000000    89.000000"
      ]
     },
     "execution_count": 175,
     "metadata": {},
     "output_type": "execute_result"
    }
   ],
   "source": [
    "df.describe()"
   ]
  },
  {
   "cell_type": "code",
   "execution_count": 176,
   "id": "334c67aa-722a-492c-9abf-59cd57210597",
   "metadata": {},
   "outputs": [
    {
     "data": {
      "text/html": [
       "<div>\n",
       "<style scoped>\n",
       "    .dataframe tbody tr th:only-of-type {\n",
       "        vertical-align: middle;\n",
       "    }\n",
       "\n",
       "    .dataframe tbody tr th {\n",
       "        vertical-align: top;\n",
       "    }\n",
       "\n",
       "    .dataframe thead th {\n",
       "        text-align: right;\n",
       "    }\n",
       "</style>\n",
       "<table border=\"1\" class=\"dataframe\">\n",
       "  <thead>\n",
       "    <tr style=\"text-align: right;\">\n",
       "      <th></th>\n",
       "      <th>ID</th>\n",
       "      <th>Marital Status</th>\n",
       "      <th>Gender</th>\n",
       "      <th>Income</th>\n",
       "      <th>Children</th>\n",
       "      <th>Education</th>\n",
       "      <th>Occupation</th>\n",
       "      <th>Home Owner</th>\n",
       "      <th>Cars</th>\n",
       "      <th>Commute Distance (Miles)</th>\n",
       "      <th>Region</th>\n",
       "      <th>Age</th>\n",
       "      <th>Purchased Bike</th>\n",
       "    </tr>\n",
       "  </thead>\n",
       "  <tbody>\n",
       "    <tr>\n",
       "      <th>250</th>\n",
       "      <td>22931</td>\n",
       "      <td>married</td>\n",
       "      <td>male</td>\n",
       "      <td>100000.0</td>\n",
       "      <td>5</td>\n",
       "      <td>Graduate Degree</td>\n",
       "      <td>Management</td>\n",
       "      <td>NO</td>\n",
       "      <td>1</td>\n",
       "      <td>2</td>\n",
       "      <td>Pacific</td>\n",
       "      <td>78</td>\n",
       "      <td>YES</td>\n",
       "    </tr>\n",
       "    <tr>\n",
       "      <th>375</th>\n",
       "      <td>15628</td>\n",
       "      <td>married</td>\n",
       "      <td>female</td>\n",
       "      <td>40000.0</td>\n",
       "      <td>1</td>\n",
       "      <td>Bachelors</td>\n",
       "      <td>Skilled Manual</td>\n",
       "      <td>YES</td>\n",
       "      <td>1</td>\n",
       "      <td>1</td>\n",
       "      <td>Europe</td>\n",
       "      <td>89</td>\n",
       "      <td>NO</td>\n",
       "    </tr>\n",
       "    <tr>\n",
       "      <th>401</th>\n",
       "      <td>11555</td>\n",
       "      <td>married</td>\n",
       "      <td>female</td>\n",
       "      <td>40000.0</td>\n",
       "      <td>1</td>\n",
       "      <td>Bachelors</td>\n",
       "      <td>Clerical</td>\n",
       "      <td>YES</td>\n",
       "      <td>0</td>\n",
       "      <td>1</td>\n",
       "      <td>Europe</td>\n",
       "      <td>80</td>\n",
       "      <td>NO</td>\n",
       "    </tr>\n",
       "    <tr>\n",
       "      <th>595</th>\n",
       "      <td>18058</td>\n",
       "      <td>single</td>\n",
       "      <td>female</td>\n",
       "      <td>20000.0</td>\n",
       "      <td>3</td>\n",
       "      <td>High School</td>\n",
       "      <td>Skilled Manual</td>\n",
       "      <td>YES</td>\n",
       "      <td>2</td>\n",
       "      <td>5</td>\n",
       "      <td>North America</td>\n",
       "      <td>78</td>\n",
       "      <td>NO</td>\n",
       "    </tr>\n",
       "  </tbody>\n",
       "</table>\n",
       "</div>"
      ],
      "text/plain": [
       "        ID Marital Status  Gender    Income Children        Education  \\\n",
       "250  22931        married    male  100000.0        5  Graduate Degree   \n",
       "375  15628        married  female   40000.0        1        Bachelors   \n",
       "401  11555        married  female   40000.0        1        Bachelors   \n",
       "595  18058         single  female   20000.0        3      High School   \n",
       "\n",
       "         Occupation Home Owner  Cars Commute Distance (Miles)         Region  \\\n",
       "250      Management         NO     1                        2        Pacific   \n",
       "375  Skilled Manual        YES     1                        1         Europe   \n",
       "401        Clerical        YES     0                        1         Europe   \n",
       "595  Skilled Manual        YES     2                        5  North America   \n",
       "\n",
       "     Age Purchased Bike  \n",
       "250   78            YES  \n",
       "375   89             NO  \n",
       "401   80             NO  \n",
       "595   78             NO  "
      ]
     },
     "execution_count": 176,
     "metadata": {},
     "output_type": "execute_result"
    }
   ],
   "source": [
    "q1 = df['Age'].quantile(0.25)\n",
    "q3 = df['Age'].quantile(0.75)\n",
    "iqr = q3 - q1 \n",
    "lower_bound = q1 - 1.5 * iqr\n",
    "upper_bound = q3 + 1.5 * iqr\n",
    "outlierAge = df[(df['Age'] < lower_bound) | (df['Age'] > upper_bound)]\n",
    "# upper_bound\n",
    "outlierAge"
   ]
  },
  {
   "cell_type": "code",
   "execution_count": 177,
   "id": "4c9d8715-3ddb-4e02-9bd0-df37eb74231e",
   "metadata": {},
   "outputs": [],
   "source": [
    "# medianAge = np.median(df['Age']) \n",
    "# df['Age'] = df['Age'].replace(outlierAge, medianAge)\n",
    "# medianAge = np.median(df['Age']) #better than mean\n",
    "ageOutlier = [89, 80,78]\n",
    "df['Age'] = df['Age'].replace(ageOutlier,upper_bound) \n"
   ]
  },
  {
   "cell_type": "code",
   "execution_count": 178,
   "id": "541f73af-7e87-4f3d-b886-af658ed519cb",
   "metadata": {},
   "outputs": [
    {
     "data": {
      "text/plain": [
       "[]"
      ]
     },
     "execution_count": 178,
     "metadata": {},
     "output_type": "execute_result"
    }
   ],
   "source": [
    "mean = np.mean( df['Cars'])\n",
    "std = np.std( df['Cars'])\n",
    "threshold = 3\n",
    "outlierCars = []\n",
    "for i in  df['Cars']:\n",
    "    z = (i-mean)/std\n",
    "    if z > threshold:\n",
    "        outlierCars.append(i)\n",
    "outlierCars"
   ]
  },
  {
   "cell_type": "code",
   "execution_count": 179,
   "id": "2ff472c4-a0f3-47e1-b820-3da33a334278",
   "metadata": {},
   "outputs": [
    {
     "name": "stdout",
     "output_type": "stream",
     "text": [
      "<class 'pandas.core.frame.DataFrame'>\n",
      "Index: 1004 entries, 0 to 1025\n",
      "Data columns (total 13 columns):\n",
      " #   Column                    Non-Null Count  Dtype  \n",
      "---  ------                    --------------  -----  \n",
      " 0   ID                        1004 non-null   int64  \n",
      " 1   Marital Status            1004 non-null   object \n",
      " 2   Gender                    1004 non-null   object \n",
      " 3   Income                    1004 non-null   float64\n",
      " 4   Children                  1004 non-null   object \n",
      " 5   Education                 1004 non-null   object \n",
      " 6   Occupation                1004 non-null   object \n",
      " 7   Home Owner                1004 non-null   object \n",
      " 8   Cars                      1004 non-null   int64  \n",
      " 9   Commute Distance (Miles)  1004 non-null   object \n",
      " 10  Region                    1004 non-null   object \n",
      " 11  Age                       1004 non-null   float64\n",
      " 12  Purchased Bike            1004 non-null   object \n",
      "dtypes: float64(2), int64(2), object(9)\n",
      "memory usage: 109.8+ KB\n"
     ]
    }
   ],
   "source": [
    "df.info()"
   ]
  },
  {
   "cell_type": "code",
   "execution_count": 180,
   "id": "58042722-dae7-4e7d-bd32-471296a4bfc0",
   "metadata": {},
   "outputs": [
    {
     "data": {
      "text/html": [
       "<div>\n",
       "<style scoped>\n",
       "    .dataframe tbody tr th:only-of-type {\n",
       "        vertical-align: middle;\n",
       "    }\n",
       "\n",
       "    .dataframe tbody tr th {\n",
       "        vertical-align: top;\n",
       "    }\n",
       "\n",
       "    .dataframe thead th {\n",
       "        text-align: right;\n",
       "    }\n",
       "</style>\n",
       "<table border=\"1\" class=\"dataframe\">\n",
       "  <thead>\n",
       "    <tr style=\"text-align: right;\">\n",
       "      <th></th>\n",
       "      <th>ID</th>\n",
       "      <th>Income</th>\n",
       "      <th>Cars</th>\n",
       "      <th>Age</th>\n",
       "    </tr>\n",
       "  </thead>\n",
       "  <tbody>\n",
       "    <tr>\n",
       "      <th>count</th>\n",
       "      <td>1004.000000</td>\n",
       "      <td>1004.000000</td>\n",
       "      <td>1004.000000</td>\n",
       "      <td>1004.000000</td>\n",
       "    </tr>\n",
       "    <tr>\n",
       "      <th>mean</th>\n",
       "      <td>20020.903386</td>\n",
       "      <td>55179.282869</td>\n",
       "      <td>1.429283</td>\n",
       "      <td>44.089641</td>\n",
       "    </tr>\n",
       "    <tr>\n",
       "      <th>std</th>\n",
       "      <td>5322.522430</td>\n",
       "      <td>29489.977159</td>\n",
       "      <td>1.113669</td>\n",
       "      <td>11.323527</td>\n",
       "    </tr>\n",
       "    <tr>\n",
       "      <th>min</th>\n",
       "      <td>11000.000000</td>\n",
       "      <td>10000.000000</td>\n",
       "      <td>0.000000</td>\n",
       "      <td>25.000000</td>\n",
       "    </tr>\n",
       "    <tr>\n",
       "      <th>25%</th>\n",
       "      <td>15358.750000</td>\n",
       "      <td>30000.000000</td>\n",
       "      <td>1.000000</td>\n",
       "      <td>35.000000</td>\n",
       "    </tr>\n",
       "    <tr>\n",
       "      <th>50%</th>\n",
       "      <td>19870.000000</td>\n",
       "      <td>60000.000000</td>\n",
       "      <td>1.000000</td>\n",
       "      <td>43.000000</td>\n",
       "    </tr>\n",
       "    <tr>\n",
       "      <th>75%</th>\n",
       "      <td>24487.750000</td>\n",
       "      <td>70000.000000</td>\n",
       "      <td>2.000000</td>\n",
       "      <td>52.000000</td>\n",
       "    </tr>\n",
       "    <tr>\n",
       "      <th>max</th>\n",
       "      <td>29447.000000</td>\n",
       "      <td>130000.000000</td>\n",
       "      <td>4.000000</td>\n",
       "      <td>77.500000</td>\n",
       "    </tr>\n",
       "  </tbody>\n",
       "</table>\n",
       "</div>"
      ],
      "text/plain": [
       "                 ID         Income         Cars          Age\n",
       "count   1004.000000    1004.000000  1004.000000  1004.000000\n",
       "mean   20020.903386   55179.282869     1.429283    44.089641\n",
       "std     5322.522430   29489.977159     1.113669    11.323527\n",
       "min    11000.000000   10000.000000     0.000000    25.000000\n",
       "25%    15358.750000   30000.000000     1.000000    35.000000\n",
       "50%    19870.000000   60000.000000     1.000000    43.000000\n",
       "75%    24487.750000   70000.000000     2.000000    52.000000\n",
       "max    29447.000000  130000.000000     4.000000    77.500000"
      ]
     },
     "execution_count": 180,
     "metadata": {},
     "output_type": "execute_result"
    }
   ],
   "source": [
    "df.describe()"
   ]
  },
  {
   "cell_type": "code",
   "execution_count": null,
   "id": "80e64594-ec72-429a-8880-9be1d3fa7cea",
   "metadata": {},
   "outputs": [],
   "source": [
    " # 1. What is the average income of the employees  in this dataset?\n"
   ]
  },
  {
   "cell_type": "code",
   "execution_count": 181,
   "id": "5fd3e05a-1f9c-4b05-a1c4-c57dd078ba50",
   "metadata": {},
   "outputs": [
    {
     "data": {
      "text/plain": [
       "55179.282868525894"
      ]
     },
     "execution_count": 181,
     "metadata": {},
     "output_type": "execute_result"
    }
   ],
   "source": [
    "avg=df['Income'].mean() # to know the distripution of income\n",
    "avg"
   ]
  },
  {
   "cell_type": "markdown",
   "id": "55c62eae-fc92-4977-b209-44e6018f8440",
   "metadata": {},
   "source": [
    " # 2. Which percentage of employees earn more than $50,000?"
   ]
  },
  {
   "cell_type": "code",
   "execution_count": 214,
   "id": "a5a5904f-ea9f-425e-8142-3fdc7e266901",
   "metadata": {},
   "outputs": [
    {
     "data": {
      "image/png": "[encoded data removed]",
      "text/plain": [
       "<Figure size 800x600 with 1 Axes>"
      ]
     },
     "metadata": {},
     "output_type": "display_data"
    }
   ],
   "source": [
    "percentage=(df['Income'] > 50000).sum() \n",
    "percentage=percentage/len(df)*100\n",
    "labels = ['Income <= $50,000', 'Income > $50,000']\n",
    "sizes = [100 - percentage, percentage]\n",
    "colors = ['#FFB6C1', '#CBD5E8']\n",
    "\n",
    "plt.figure(figsize=(8, 6))\n",
    "plt.pie(sizes, labels=labels, colors=colors, autopct='%.1f%%', startangle=140)\n",
    "plt.title('Percentage of Individuals with Income > $50,000')\n",
    "plt.axis('equal')  # draw circle\n",
    "plt.show() #helps businesses see how many people make a decent amount of money."
   ]
  },
  {
   "cell_type": "markdown",
   "id": "00bdf5bc-c108-449c-aad4-d343e692ad89",
   "metadata": {},
   "source": [
    "# 3-Which percentage of employees have purchased a bike?\n"
   ]
  },
  {
   "cell_type": "code",
   "execution_count": 183,
   "id": "f0e30a33-a19d-43bc-9135-81d5b789e340",
   "metadata": {},
   "outputs": [
    {
     "data": {
      "image/png": "[encoded data removed]",
      "text/plain": [
       "<Figure size 800x600 with 1 Axes>"
      ]
     },
     "metadata": {},
     "output_type": "display_data"
    }
   ],
   "source": [
    "purchasedBikePercentage = (df[df['Purchased Bike'] == 'YES'].groupby('Purchased Bike').count()['ID']) / len(df) * 100\n",
    "nonPurchasedBikePercentage = 100 - purchasedBikePercentage\n",
    "\n",
    "labels = ['Purchased Bike', 'have no Purchase Bike']\n",
    "sizes = [purchasedBikePercentage.values[0], nonPurchasedBikePercentage.values[0]]\n",
    "colors = ['lightgray', '#CBD5E8']\n",
    "# colors = ['Lightpink', 'Steelblue']\n",
    "explode = (0.1, 0)\n",
    "\n",
    "plt.figure(figsize=(8, 6))\n",
    "plt.pie(sizes, explode=explode, labels=labels, colors=colors, autopct='%1.1f%%', startangle=140)\n",
    "plt.title('Percentage of Individuals Owning at Least One bike')\n",
    "plt.axis('equal')  \n",
    "plt.show()#understand the popularity of biking rider to choose activity or knowing trandy transpositio"
   ]
  },
  {
   "cell_type": "markdown",
   "id": "4a44b1c5-ae64-4d2a-ba71-4a1e060b68f9",
   "metadata": {},
   "source": [
    "# 4-What is the most common occupation in this dataset?"
   ]
  },
  {
   "cell_type": "code",
   "execution_count": 215,
   "id": "6935f8ca-fa84-4abd-9a59-db376d6d242e",
   "metadata": {},
   "outputs": [
    {
     "data": {
      "text/plain": [
       "Occupation\n",
       "Clerical          181\n",
       "Management        169\n",
       "Manual            123\n",
       "Professional      273\n",
       "Skilled Manual    258\n",
       "Name: ID, dtype: int64"
      ]
     },
     "execution_count": 215,
     "metadata": {},
     "output_type": "execute_result"
    }
   ],
   "source": [
    "df.groupby('Occupation').count()['ID']"
   ]
  },
  {
   "cell_type": "markdown",
   "id": "2f347e4d-0417-4281-b0ca-82c5ece6e7a5",
   "metadata": {},
   "source": [
    "# 5. How many employees in this dataset have no children?"
   ]
  },
  {
   "cell_type": "code",
   "execution_count": 185,
   "id": "8496ff68-8c19-45f7-bebb-896591b6e61d",
   "metadata": {},
   "outputs": [
    {
     "data": {
      "text/plain": [
       "Children\n",
       "0    283\n",
       "Name: ID, dtype: int64"
      ]
     },
     "execution_count": 185,
     "metadata": {},
     "output_type": "execute_result"
    }
   ],
   "source": [
    "(df[df['Children'] == 0].groupby('Children').count()['ID'])"
   ]
  },
  {
   "cell_type": "markdown",
   "id": "ebacfa41-2578-4634-a2b1-ea6952f1710d",
   "metadata": {},
   "source": [
    " # 6. What is the percentage of cars owned by employeesls?"
   ]
  },
  {
   "cell_type": "code",
   "execution_count": 186,
   "id": "03d4a253-a000-43c9-b5fa-1a2ab917a4c2",
   "metadata": {},
   "outputs": [
    {
     "data": {
      "image/png": "[encoded data removed]",
      "text/plain": [
       "<Figure size 700x800 with 1 Axes>"
      ]
     },
     "metadata": {},
     "output_type": "display_data"
    }
   ],
   "source": [
    "carOwnersPercentage = (df[df['Cars'] != 0].count()['ID']) / len(df) * 100\n",
    "nonCarOwnersPercentage = 100 - carOwnersPercentage\n",
    "\n",
    "labels = ['Car Owners', 'Non Car Owners']\n",
    "sizes = [carOwnersPercentage, nonCarOwnersPercentage]\n",
    "colors = ['Lightgrey', '#FFB6C1']\n",
    "explode = (0.1, 0)\n",
    "\n",
    "plt.figure(figsize=(7, 8))\n",
    "plt.pie(sizes, explode=explode, labels=labels, colors=colors, autopct='%1.1f%%', startangle=140)\n",
    "plt.title('Percentage of Individuals Owning at Least One Car')\n",
    "plt.axis('equal')  \n",
    "plt.show() # parking ,bus"
   ]
  },
  {
   "cell_type": "markdown",
   "id": "0f83a3b4-453e-4a73-8d04-2e46587f297d",
   "metadata": {},
   "source": [
    "# 7.  What is the most popular region?"
   ]
  },
  {
   "cell_type": "code",
   "execution_count": 187,
   "id": "f9af2a61-4ace-4c45-ab99-7b877b7d7a66",
   "metadata": {},
   "outputs": [
    {
     "data": {
      "text/plain": [
       "'North America'"
      ]
     },
     "execution_count": 187,
     "metadata": {},
     "output_type": "execute_result"
    }
   ],
   "source": [
    "df.groupby('Region').count()['ID'].idxmax()"
   ]
  },
  {
   "cell_type": "markdown",
   "id": "4afd7c94-693b-4aa0-b062-46421850c1d0",
   "metadata": {},
   "source": [
    "# 8. What is the most common gender in this dataset?"
   ]
  },
  {
   "cell_type": "code",
   "execution_count": 188,
   "id": "ddb9aa48-103b-423e-86a7-01dc0b539e44",
   "metadata": {},
   "outputs": [
    {
     "data": {
      "text/plain": [
       "'male'"
      ]
     },
     "execution_count": 188,
     "metadata": {},
     "output_type": "execute_result"
    }
   ],
   "source": [
    "df.groupby('Gender').count()['ID'].idxmax()"
   ]
  },
  {
   "cell_type": "markdown",
   "id": "355ee624-a86c-411d-ba8e-784f2f80bbab",
   "metadata": {},
   "source": [
    "# 9.what is the average income of male employees?"
   ]
  },
  {
   "cell_type": "code",
   "execution_count": 189,
   "id": "a382d96a-9ad6-4e82-a102-9da48976e0f9",
   "metadata": {},
   "outputs": [
    {
     "data": {
      "text/plain": [
       "56438.356164383564"
      ]
     },
     "execution_count": 189,
     "metadata": {},
     "output_type": "execute_result"
    }
   ],
   "source": [
    "maleIncomeMeanId = df[df['Gender'] == 'male']['Income'].mean()\n",
    "\n",
    "maleIncomeMeanId"
   ]
  },
  {
   "cell_type": "markdown",
   "id": "fa0fd238-343c-4486-b89f-610ef94efbf0",
   "metadata": {},
   "source": [
    "# 10.what is the average income of female employees"
   ]
  },
  {
   "cell_type": "code",
   "execution_count": 190,
   "id": "bb71ba8a-3065-4c08-a7f8-13f7f424b8bb",
   "metadata": {},
   "outputs": [
    {
     "data": {
      "text/plain": [
       "53874.23935091278"
      ]
     },
     "execution_count": 190,
     "metadata": {},
     "output_type": "execute_result"
    }
   ],
   "source": [
    "femaleIncomeMeanId = df[df['Gender'] == 'female']['Income'].mean()\n",
    "\n",
    "femaleIncomeMeanId"
   ]
  },
  {
   "cell_type": "markdown",
   "id": "2ddab25c-b718-4365-9c7b-32b67e4a5a31",
   "metadata": {},
   "source": [
    "# 11.How many employee in this dataset have 2 or more cars and income <50000?"
   ]
  },
  {
   "cell_type": "code",
   "execution_count": 191,
   "id": "476db3f5-634b-45b1-95e4-b2ab6899bc9d",
   "metadata": {},
   "outputs": [
    {
     "data": {
      "text/plain": [
       "181"
      ]
     },
     "execution_count": 191,
     "metadata": {},
     "output_type": "execute_result"
    }
   ],
   "source": [
    "df[(df['Cars'] >= 2) & (df['Income'] < 50000)].count()['ID']\n"
   ]
  },
  {
   "cell_type": "markdown",
   "id": "735796f6-5275-4615-8433-d422730da5bb",
   "metadata": {},
   "source": [
    "# 12.What is the percentage of indiviuals in this dataset who are home owners and have purchased a bike?"
   ]
  },
  {
   "cell_type": "code",
   "execution_count": 192,
   "id": "66ab2a94-33e9-47f1-a443-2582f93b2c18",
   "metadata": {},
   "outputs": [
    {
     "data": {
      "text/plain": [
       "326"
      ]
     },
     "execution_count": 192,
     "metadata": {},
     "output_type": "execute_result"
    }
   ],
   "source": [
    "df[(df['Home Owner'] =='YES') & (df['Purchased Bike'] == 'YES')].count()['ID'] # how many homeowners also enjoy biking   leading to more effective promotions and product offerings "
   ]
  },
  {
   "cell_type": "markdown",
   "id": "578b4e58-926a-40fb-8e21-1fb60d17599b",
   "metadata": {},
   "source": [
    "# 13.What is the highest income in this dataset?"
   ]
  },
  {
   "cell_type": "code",
   "execution_count": 193,
   "id": "8af6d09e-f16b-46c9-ac40-a878c8972c87",
   "metadata": {},
   "outputs": [
    {
     "data": {
      "text/plain": [
       "130000.0"
      ]
     },
     "execution_count": 193,
     "metadata": {},
     "output_type": "execute_result"
    }
   ],
   "source": [
    " df['Income'].max()"
   ]
  },
  {
   "cell_type": "markdown",
   "id": "43247c62-11e4-4fed-ac1b-830007d4b5e7",
   "metadata": {},
   "source": [
    "# 14.How many employee in this dataset have a partial college education?"
   ]
  },
  {
   "cell_type": "code",
   "execution_count": 194,
   "id": "31b19a9a-d306-4eb4-a3fd-3c3c0e82c263",
   "metadata": {},
   "outputs": [
    {
     "data": {
      "text/plain": [
       "263"
      ]
     },
     "execution_count": 194,
     "metadata": {},
     "output_type": "execute_result"
    }
   ],
   "source": [
    "(df[df['Education']=='Partial College'].count()['ID'])"
   ]
  },
  {
   "cell_type": "markdown",
   "id": "a34eb569-6ced-4b85-84ca-8a79246b7e69",
   "metadata": {},
   "source": [
    "# 15.What is the average income for employees in each region?"
   ]
  },
  {
   "cell_type": "code",
   "execution_count": 195,
   "id": "9f8ab043-114f-4b90-a3a5-da167b0acbcd",
   "metadata": {},
   "outputs": [
    {
     "data": {
      "image/png": "[encoded data removed]",
      "text/plain": [
       "<Figure size 800x600 with 1 Axes>"
      ]
     },
     "metadata": {},
     "output_type": "display_data"
    }
   ],
   "source": [
    "avgIncome = df.groupby('Region')['Income'].mean()\n",
    "plt.figure(figsize=(8, 6))\n",
    "avgIncome.plot(kind='bar', color='#B3E2CD')\n",
    "plt.title('Average Income Across Regions')\n",
    "plt.xlabel('Region')\n",
    "plt.ylabel('Average Income')\n",
    "plt.xticks(rotation=45)\n",
    "plt.grid(axis='y', alpha=0.7)\n",
    "plt.tight_layout()\n",
    "plt.show()"
   ]
  },
  {
   "cell_type": "markdown",
   "id": "a5b0a771-3a99-4c34-a66d-9c6429137b35",
   "metadata": {},
   "source": [
    "# 16.what is the averege income for single and married ?"
   ]
  },
  {
   "cell_type": "code",
   "execution_count": 196,
   "id": "4d5c2449-6699-4151-b421-78e43fb50962",
   "metadata": {},
   "outputs": [
    {
     "data": {
      "image/png": "[encoded data removed]",
      "text/plain": [
       "<Figure size 800x600 with 1 Axes>"
      ]
     },
     "metadata": {},
     "output_type": "display_data"
    }
   ],
   "source": [
    "avgIncomeMaritalStatus = df.groupby('Marital Status')['Income'].mean()\n",
    "plt.figure(figsize=(8, 6))\n",
    "avgIncomeMaritalStatus.plot(kind='bar', color='#CBD5E8')\n",
    "plt.title('Average Income for Single and Married Individuals')\n",
    "plt.xlabel('Marital Status')\n",
    "plt.ylabel('Average Income')\n",
    "plt.xticks(rotation=0)\n",
    "plt.grid(axis='y', alpha=0.7)\n",
    "plt.tight_layout()\n",
    "plt.show()"
   ]
  },
  {
   "cell_type": "markdown",
   "id": "07fbfd00-868e-4f76-9162-ddbc55302368",
   "metadata": {},
   "source": [
    "# 17.what is the averege income for married ?"
   ]
  },
  {
   "cell_type": "code",
   "execution_count": 197,
   "id": "f873ee94-07b9-410c-9f17-af232848c2bf",
   "metadata": {},
   "outputs": [
    {
     "data": {
      "text/plain": [
       "57350.746268656716"
      ]
     },
     "execution_count": 197,
     "metadata": {},
     "output_type": "execute_result"
    }
   ],
   "source": [
    "df[df['Marital Status'] == 'married']['Income'].mean()\n",
    " "
   ]
  },
  {
   "cell_type": "markdown",
   "id": "52b0a084-55e2-41d6-a393-9061a34a4032",
   "metadata": {},
   "source": [
    "# 18-which Region has more employee"
   ]
  },
  {
   "cell_type": "code",
   "execution_count": 198,
   "id": "4806c877-d2db-40ec-9049-777d41937586",
   "metadata": {},
   "outputs": [
    {
     "data": {
      "image/png": "[encoded data removed]",
      "text/plain": [
       "<Figure size 800x800 with 1 Axes>"
      ]
     },
     "metadata": {},
     "output_type": "display_data"
    }
   ],
   "source": [
    "regionCounts = df['Region'].value_counts()\n",
    "customColors = [ '#CBD5E8','#B3E2CD','#FFB6C1']\n",
    "plt.figure(figsize=(8, 8))\n",
    "plt.pie(regionCounts, labels=regionCounts.index, autopct='%1.1f%%', startangle=140,colors=customColors)\n",
    "plt.title('Distribution of Regions')\n",
    "plt.axis('equal')\n",
    "plt.show()\n",
    "# sns.set(rc={'figure.figsize':[5,5]},font_scale=1.5)\n",
    "# sns.countplot(y='Region',data=df, palette='Pastel1')"
   ]
  },
  {
   "cell_type": "markdown",
   "id": "eca13ca2-9a5a-468a-b072-4d144e88c254",
   "metadata": {},
   "source": [
    "# 19-What is the distribution of marital status in the dataset?"
   ]
  },
  {
   "cell_type": "code",
   "execution_count": 199,
   "id": "a2e6a48c-02c9-4183-aea7-0d7e51f76765",
   "metadata": {},
   "outputs": [
    {
     "data": {
      "text/plain": [
       "<Axes: xlabel='count', ylabel='Marital Status'>"
      ]
     },
     "execution_count": 199,
     "metadata": {},
     "output_type": "execute_result"
    },
    {
     "data": {
      "image/png": "[encoded data removed]",
      "text/plain": [
       "<Figure size 640x480 with 1 Axes>"
      ]
     },
     "metadata": {},
     "output_type": "display_data"
    }
   ],
   "source": [
    "sns.countplot(y='Marital Status', data=df, palette='Pastel1')\n"
   ]
  },
  {
   "cell_type": "markdown",
   "id": "80170536-3436-4b50-bcd0-76036d5d86b1",
   "metadata": {},
   "source": [
    "# 20-What is the max and min Income for male and female "
   ]
  },
  {
   "cell_type": "code",
   "execution_count": 200,
   "id": "eec0f9f2-c813-4760-806b-e07d2f83d0fe",
   "metadata": {},
   "outputs": [
    {
     "name": "stdout",
     "output_type": "stream",
     "text": [
      "Maximum Income for Males: 130000.0\n",
      "Minimum Income for Males: 10000.0\n",
      "Maximum Income for Females: 130000.0\n",
      "Minimum Income for Females: 10000.0\n"
     ]
    }
   ],
   "source": [
    "# df.groupby('Gender').describe()['Income']\n",
    "maleData = df[df['Gender'] == 'male']\n",
    "femaleData = df[df['Gender'] == 'female']\n",
    "maxIncomeMale = maleData['Income'].max()\n",
    "minIncomeMale = maleData['Income'].min() \n",
    "maxIncomeFemale = femaleData['Income'].max()\n",
    "minIncomeFemale = femaleData['Income'].min()\n",
    "print(\"Maximum Income for Males:\", maxIncomeMale)\n",
    "print(\"Minimum Income for Males:\", minIncomeMale)\n",
    "print(\"Maximum Income for Females:\", maxIncomeFemale)\n",
    "print(\"Minimum Income for Females:\", minIncomeFemale)"
   ]
  },
  {
   "cell_type": "markdown",
   "id": "5e014c8e-5a24-4eaa-a802-5b5ea0888a29",
   "metadata": {},
   "source": [
    "# cont no 20"
   ]
  },
  {
   "cell_type": "code",
   "execution_count": 201,
   "id": "8f7fa248-b229-4be0-bd77-57da9cd63a49",
   "metadata": {},
   "outputs": [
    {
     "data": {
      "text/plain": [
       "<Axes: xlabel='Gender', ylabel='Income'>"
      ]
     },
     "execution_count": 201,
     "metadata": {},
     "output_type": "execute_result"
    },
    {
     "data": {
      "image/png": "[encoded data removed]",
      "text/plain": [
       "<Figure size 640x480 with 1 Axes>"
      ]
     },
     "metadata": {},
     "output_type": "display_data"
    }
   ],
   "source": [
    "\n",
    "sns.boxplot(x='Gender',y='Income',data=df,palette='Pastel1')"
   ]
  },
  {
   "cell_type": "code",
   "execution_count": null,
   "id": "e6743bed-6b79-4b34-937b-c33f71689b48",
   "metadata": {},
   "outputs": [],
   "source": []
  },
  {
   "cell_type": "markdown",
   "id": "136e9a4b-4000-4e10-820c-637f94e88e92",
   "metadata": {},
   "source": [
    "# 21-  what is the visualize the distribution of occupations among individuals in ds?"
   ]
  },
  {
   "cell_type": "code",
   "execution_count": 202,
   "id": "623e5593-dc52-48a7-8853-3d011b4303c5",
   "metadata": {},
   "outputs": [
    {
     "data": {
      "image/png": "[encoded data removed]",
      "text/plain": [
       "<Figure size 1000x600 with 1 Axes>"
      ]
     },
     "metadata": {},
     "output_type": "display_data"
    }
   ],
   "source": [
    "plt.figure(figsize=(10, 6)) \n",
    "customColors = [ '#CBD5E8','#B3E2CD','lightgray','#B3E2CD','#FFB6C1']\n",
    "sns.countplot(x=\"Occupation\", data=df, palette=customColors)\n",
    "plt.show()"
   ]
  },
  {
   "cell_type": "markdown",
   "id": "3d420d3a-2db7-4ff8-98cc-dc8577c47cf0",
   "metadata": {},
   "source": [
    "# 22-What is the distribution of education levels among individuals based on gender?"
   ]
  },
  {
   "cell_type": "code",
   "execution_count": 203,
   "id": "5882e585-45ee-4dd6-801f-3f50b2a0ecb8",
   "metadata": {},
   "outputs": [
    {
     "data": {
      "image/png": "[encoded data removed]",
      "text/plain": [
       "<Figure size 1000x600 with 1 Axes>"
      ]
     },
     "metadata": {},
     "output_type": "display_data"
    }
   ],
   "source": [
    "plt.figure(figsize=(10, 6))\n",
    "sns.countplot(data=df, x='Education', hue='Gender', palette=['#FFB6C1', 'Lightgrey'])\n",
    "plt.title('Education Level Distribution by Gender')\n",
    "plt.xlabel('Education Level')\n",
    "plt.ylabel('Count')\n",
    "plt.xticks(rotation=45)\n",
    "plt.legend(title='Gender')\n",
    "plt.show()\n"
   ]
  },
  {
   "cell_type": "markdown",
   "id": "ab7c70cf-d20e-45f2-b19b-7dab6a7e5a33",
   "metadata": {},
   "source": [
    "# 23-How does Occupation affect Income?"
   ]
  },
  {
   "cell_type": "code",
   "execution_count": 204,
   "id": "9f51b1a2-6d22-4d82-ac4b-0c8506b11b5a",
   "metadata": {},
   "outputs": [
    {
     "data": {
      "text/plain": [
       "<Axes: xlabel='Occupation', ylabel='Income'>"
      ]
     },
     "execution_count": 204,
     "metadata": {},
     "output_type": "execute_result"
    },
    {
     "data": {
      "image/png": "[encoded data removed]",
      "text/plain": [
       "<Figure size 1000x600 with 1 Axes>"
      ]
     },
     "metadata": {},
     "output_type": "display_data"
    }
   ],
   "source": [
    "plt.figure(figsize=(10, 6))\n",
    "c_boxplot = sns.color_palette([\"#B3E2CD\", \"#CBD5E8\", \"#CCCCCC\", \"#CBD5E8\", \"#B3E2CD\"])\n",
    "\n",
    "sns.boxplot(x='Occupation', y='Income', data=df, palette=c_boxplot)\n"
   ]
  },
  {
   "cell_type": "markdown",
   "id": "8a8ce798-6b13-4860-948d-6ce0fc8cc16e",
   "metadata": {},
   "source": [
    "# 24-How does the Purchase of Bike relate to Income?"
   ]
  },
  {
   "cell_type": "code",
   "execution_count": 205,
   "id": "34f5bab5-86db-40b0-a7e8-89a0bdd891ea",
   "metadata": {},
   "outputs": [
    {
     "data": {
      "image/png": "[encoded data removed]",
      "text/plain": [
       "<Figure size 1000x600 with 1 Axes>"
      ]
     },
     "metadata": {},
     "output_type": "display_data"
    }
   ],
   "source": [
    "plt.figure(figsize=(10, 6))\n",
    "sns.boxplot(x='Purchased Bike', y='Income', data=df,palette=['Lightgrey', '#FFCCCC'])#    #B3E2CD\n",
    "plt.title('Income Distribution by Bike Purchase')\n",
    "plt.xlabel('Purchased Bike')\n",
    "plt.ylabel('Income')\n",
    "plt.show()\n"
   ]
  },
  {
   "cell_type": "markdown",
   "id": "0ff2379d-8b7c-43dd-8d7a-39ed21793a9b",
   "metadata": {},
   "source": [
    "# 25-How are the numerical variables correlated with each other?"
   ]
  },
  {
   "cell_type": "code",
   "execution_count": 206,
   "id": "bd5c2961-bca6-4c0c-b543-f477f6b845ad",
   "metadata": {},
   "outputs": [
    {
     "data": {
      "image/png": "[encoded data removed]",
      "text/plain": [
       "<Figure size 1000x800 with 2 Axes>"
      ]
     },
     "metadata": {},
     "output_type": "display_data"
    }
   ],
   "source": [
    "numericalCols = ['Age', 'Income', 'Children', 'Cars']\n",
    "correlationMatrix = df[numericalCols].corr() \n",
    "plt.figure(figsize=(10, 8))\n",
    "cmap = sns.color_palette(\"Pastel2\")\n",
    "cmap[3] = (1.0, 0.8, 0.8)\n",
    "sns.heatmap(correlationMatrix, annot=True, cmap=cmap, fmt=\".2f\", linewidths=0.5)\n",
    "plt.title('Correlation between ')\n",
    "plt.show()#age & income --- little if found correlation #age & cars   \n",
    "#cars& income -->low positive "
   ]
  },
  {
   "cell_type": "code",
   "execution_count": null,
   "id": "ee4e3fee-713a-459d-a552-5ad44540ae81",
   "metadata": {},
   "outputs": [],
   "source": []
  },
  {
   "cell_type": "code",
   "execution_count": null,
   "id": "5cf09ff2-f4a1-4542-8f49-6f3f2be8cc29",
   "metadata": {},
   "outputs": [],
   "source": []
  }
 ],
 "metadata": {
  "kernelspec": {
   "display_name": "Python 3 (ipykernel)",
   "language": "python",
   "name": "python3"
  },
  "language_info": {
   "codemirror_mode": {
    "name": "ipython",
    "version": 3
   },
   "file_extension": ".py",
   "mimetype": "text/x-python",
   "name": "python",
   "nbconvert_exporter": "python",
   "pygments_lexer": "ipython3",
   "version": "3.11.7"
  }
 },
 "nbformat": 4,
 "nbformat_minor": 5
}
